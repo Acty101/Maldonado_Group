{
 "cells": [
  {
   "cell_type": "code",
   "execution_count": 1,
   "id": "7730fb9a",
   "metadata": {},
   "outputs": [],
   "source": [
    "# model library\n",
    "import tensorflow as tf\n",
    "\n",
    "# image processing libraries\n",
    "from tensorflow.keras.preprocessing.image import load_img\n",
    "from tensorflow.keras.preprocessing.image import img_to_array\n",
    "from PIL import Image\n",
    "import numpy as np\n",
    "\n",
    "# folder reading libraries\n",
    "import glob\n",
    "import os\n"
   ]
  },
  {
   "cell_type": "markdown",
   "id": "18313a29",
   "metadata": {},
   "source": [
    "### Loading data"
   ]
  },
  {
   "cell_type": "code",
   "execution_count": 2,
   "id": "22b66086",
   "metadata": {},
   "outputs": [],
   "source": [
    "def gather_png_data(folder_path): # function to read in PNG image files\n",
    "    files = glob.glob(folder_path + \"/*.png\")\n",
    "    img_array = []\n",
    "    l,t,r,b = 30,0,400,390 # left and top pixel until right and bottom pixel to crop that were arbitrarily set\n",
    "    for img in files:\n",
    "        img = load_img(img, color_mode = \"grayscale\")\n",
    "        img = img.crop((l,t,r,b)) # cropping is better for model & training\n",
    "        img = img_to_array(img)  # convert PIL format to numpy array (note: 255 is white and 0 black)\n",
    "        img_array.append(img)\n",
    "    img_array = np.array(img_array)\n",
    "    # map values to 0-1 such that 0 represents white, 1 represents black: better for model to process since white is not needed\n",
    "    img_array = -(img_array/255) + 1\n",
    "    return np.squeeze(img_array)\n",
    "\n",
    "def listdir_non_hidden(folder_path): # function to only gather non-hidden folders\n",
    "    folders = []\n",
    "    for folder in os.listdir(folder_path):\n",
    "        if not folder.startswith('.'):\n",
    "            folders.append(folder)\n",
    "    return folders\n",
    "\n",
    "rel_folder_path = (\"../data/training data/data (E,v,lambda)/Line Plots/\") # folder path of training data relative to code, note: add \"/\" at end\n",
    "categories = listdir_non_hidden(rel_folder_path)\n",
    "data = []\n",
    "class_names = []\n",
    "\n",
    "# iterates through data folder and appends data into a list\n",
    "for folders in categories:\n",
    "    datas = gather_png_data(rel_folder_path + folders)\n",
    "    data.append(datas)\n",
    "\n",
    "# self-made labels for easy reference into the categories folder\n",
    "for i in range(len(data)):\n",
    "    class_names.append(i+1) # number in class_names corresponds to the number in categories array, not the index"
   ]
  },
  {
   "cell_type": "markdown",
   "id": "346eaca0",
   "metadata": {},
   "source": [
    "### Processing data"
   ]
  },
  {
   "cell_type": "code",
   "execution_count": 3,
   "id": "2634569f",
   "metadata": {},
   "outputs": [],
   "source": [
    "split_percent = 30 # represents the percentage of validation data for each category that will be taken out\n",
    "\n",
    "train_labels = []\n",
    "validation_labels = []\n",
    "split_arr = []\n",
    "\n",
    "for i in range(len(data)):\n",
    "    # split data into training and validation sets\n",
    "    x = round(data[i].shape[0] * split_percent/100)\n",
    "    split = np.array_split(data[i],[0,x],axis=0) # array split returns 3 values of sub_arrays, 1 being a 0 dimension (useless)\n",
    "    split_arr.append(split)\n",
    "    \n",
    "    # generate own labels for training purposes into train & validate group, i.e. each data[i] group is its own category\n",
    "    for j in range(len(data[i])):\n",
    "        if j<x:\n",
    "            validation_labels.append(i)\n",
    "        else:\n",
    "            train_labels.append(i)\n",
    "# convert labels to numpy array to input into model         \n",
    "train_labels = np.array(train_labels)\n",
    "validation_labels = np.array(validation_labels)\n",
    "\n",
    "# create training & validating set by stacking along axis = 0\n",
    "validation = []\n",
    "train = []\n",
    "for i in range(len(split_arr)):\n",
    "    validation.append(split_arr[i][1])\n",
    "    train.append(split_arr[i][2])\n",
    "\n",
    "train_data = np.vstack(train)\n",
    "validation_data = np.vstack(validation)\n",
    "\n",
    "x,y= train_data.shape[1],train_data.shape[2]"
   ]
  },
  {
   "cell_type": "code",
   "execution_count": 4,
   "id": "1afefe78",
   "metadata": {},
   "outputs": [
    {
     "data": {
      "text/plain": [
       "(3696, 390, 370)"
      ]
     },
     "execution_count": 4,
     "metadata": {},
     "output_type": "execute_result"
    }
   ],
   "source": [
    "train_data.shape"
   ]
  },
  {
   "cell_type": "markdown",
   "id": "383f29d6",
   "metadata": {},
   "source": [
    "### Model training"
   ]
  },
  {
   "cell_type": "code",
   "execution_count": 5,
   "id": "d769ecbc",
   "metadata": {},
   "outputs": [
    {
     "name": "stdout",
     "output_type": "stream",
     "text": [
      "Epoch 1/8\n",
      "116/116 [==============================] - 4s 8ms/step - loss: 0.3193 - accuracy: 0.9186\n",
      "Epoch 2/8\n",
      "116/116 [==============================] - 1s 6ms/step - loss: 0.0633 - accuracy: 0.9816\n",
      "Epoch 3/8\n",
      "116/116 [==============================] - 1s 6ms/step - loss: 0.0357 - accuracy: 0.9900\n",
      "Epoch 4/8\n",
      "116/116 [==============================] - 1s 6ms/step - loss: 0.0347 - accuracy: 0.9900\n",
      "Epoch 5/8\n",
      "116/116 [==============================] - 1s 6ms/step - loss: 0.0191 - accuracy: 0.9930\n",
      "Epoch 6/8\n",
      "116/116 [==============================] - 1s 6ms/step - loss: 0.0129 - accuracy: 0.9959\n",
      "Epoch 7/8\n",
      "116/116 [==============================] - 1s 6ms/step - loss: 0.0125 - accuracy: 0.9962\n",
      "Epoch 8/8\n",
      "116/116 [==============================] - 1s 6ms/step - loss: 0.0135 - accuracy: 0.9962\n",
      "50/50 - 0s - loss: 0.0695 - accuracy: 0.9824 - 410ms/epoch - 8ms/step\n",
      "\n",
      "Validation accuracy: 0.9823566675186157\n"
     ]
    }
   ],
   "source": [
    "model = tf.keras.Sequential([ #number of nodes were arbitarily set based on validation accuracy \n",
    "    tf.keras.layers.Flatten(input_shape=(x,y)),\n",
    "    tf.keras.layers.Dense(len(data)*2, activation='relu'),\n",
    "    tf.keras.layers.Dense(len(data))\n",
    "])\n",
    "\n",
    "\n",
    "model.compile(optimizer='adam',\n",
    "              loss=tf.keras.losses.SparseCategoricalCrossentropy(from_logits=True),\n",
    "              metrics=['accuracy'])\n",
    "\n",
    "model.fit(train_data, train_labels, epochs=8)\n",
    "\n",
    "validate_loss, validate_acc = model.evaluate(validation_data,  validation_labels, verbose=2, batch_size=32) #verbose is method of acknowledging program is running\n",
    "print('\\nValidation accuracy:', validate_acc)\n"
   ]
  },
  {
   "cell_type": "code",
   "execution_count": 1,
   "id": "4e1c5bb6",
   "metadata": {},
   "outputs": [
    {
     "ename": "NameError",
     "evalue": "name 'model' is not defined",
     "output_type": "error",
     "traceback": [
      "\u001b[1;31m---------------------------------------------------------------------------\u001b[0m",
      "\u001b[1;31mNameError\u001b[0m                                 Traceback (most recent call last)",
      "Cell \u001b[1;32mIn [1], line 1\u001b[0m\n\u001b[1;32m----> 1\u001b[0m \u001b[43mmodel\u001b[49m\u001b[38;5;241m.\u001b[39msummary()\n",
      "\u001b[1;31mNameError\u001b[0m: name 'model' is not defined"
     ]
    }
   ],
   "source": [
    "model.summary()"
   ]
  },
  {
   "cell_type": "markdown",
   "id": "b1dceda1",
   "metadata": {},
   "source": [
    "### Model save"
   ]
  },
  {
   "cell_type": "code",
   "execution_count": 7,
   "id": "7aac7e34",
   "metadata": {},
   "outputs": [
    {
     "name": "stdout",
     "output_type": "stream",
     "text": [
      "INFO:tensorflow:Assets written to: ../model/cyclic_voltammogram_model\\assets\n"
     ]
    }
   ],
   "source": [
    "model_folder = '../model'\n",
    "model.save('../model/cyclic_voltammogram_model')"
   ]
  },
  {
   "cell_type": "code",
   "execution_count": null,
   "id": "f9c489bd",
   "metadata": {},
   "outputs": [],
   "source": []
  }
 ],
 "metadata": {
  "kernelspec": {
   "display_name": "Python 3 (ipykernel)",
   "language": "python",
   "name": "python3"
  },
  "language_info": {
   "codemirror_mode": {
    "name": "ipython",
    "version": 3
   },
   "file_extension": ".py",
   "mimetype": "text/x-python",
   "name": "python",
   "nbconvert_exporter": "python",
   "pygments_lexer": "ipython3",
   "version": "3.10.6"
  }
 },
 "nbformat": 4,
 "nbformat_minor": 5
}
