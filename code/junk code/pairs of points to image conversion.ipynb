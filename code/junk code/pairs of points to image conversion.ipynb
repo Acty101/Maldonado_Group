{
 "cells": [
  {
   "cell_type": "code",
   "execution_count": null,
   "id": "4b7956cc",
   "metadata": {},
   "outputs": [],
   "source": [
    "from pathlib import Path\n",
    "from pandas import pd"
   ]
  },
  {
   "cell_type": "code",
   "execution_count": null,
   "id": "1d1b133f",
   "metadata": {},
   "outputs": [],
   "source": [
    "# function that reads files and coverts into images\n",
    "def convert(file):\n",
    "    df = pd.read_csv(file)\n",
    "    \n",
    "    # make a new folder if not present to save files into\n",
    "    if:\n",
    "    \n",
    "    else:\n",
    "        \n",
    "\n",
    "    "
   ]
  },
  {
   "cell_type": "code",
   "execution_count": null,
   "id": "cd93ec26",
   "metadata": {},
   "outputs": [],
   "source": [
    "# data comes in files, each file corresponds to a set of xy points that describe 1 curve\n",
    "\n",
    "folder=\"C:/Users/Kit/Documents/PyCharm/venv/data\" # folder in which data is stored\n",
    "for file in Path(folder).glob('*.csv'):   #iterate through the folder to read each CSV file\n",
    "    convert(file)"
   ]
  }
 ],
 "metadata": {
  "kernelspec": {
   "display_name": "Python 3 (ipykernel)",
   "language": "python",
   "name": "python3"
  },
  "language_info": {
   "codemirror_mode": {
    "name": "ipython",
    "version": 3
   },
   "file_extension": ".py",
   "mimetype": "text/x-python",
   "name": "python",
   "nbconvert_exporter": "python",
   "pygments_lexer": "ipython3",
   "version": "3.10.6"
  }
 },
 "nbformat": 4,
 "nbformat_minor": 5
}
