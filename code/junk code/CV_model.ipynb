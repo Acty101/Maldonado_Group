{
  "nbformat": 4,
  "nbformat_minor": 0,
  "metadata": {
    "colab": {
      "provenance": []
    },
    "kernelspec": {
      "name": "python3",
      "display_name": "Python 3"
    },
    "language_info": {
      "name": "python"
    }
  },
  "cells": [
    {
      "cell_type": "markdown",
      "source": [
        "\n",
        "Things to correct/do in the code:\n",
        "1.  Ways to improve gather_png_data? Currently takes a lot of ram\n",
        "2.  Fix the spliting code --> use built in train/validation split functions? Currently doubles RAM usage - HIGHLY inefficient\n",
        "3.  Clean up code for model epochs into 1 block\n",
        "4.  Consider changing model design - more layers? CNN?\n",
        "5.  Separate code into 2 parts - one for training model and saving, one for loading model and viewing \n",
        "6.  In viewing code: \n",
        "  - add a table that displays all predictions in 1 place for easy reference\n",
        "  - clean up bar graph percentages (gets messy when many categories present)\n",
        "  - add softmax layer after loading model\n",
        "  - redessgin the reading in code function to take also individual image names\n",
        "\n"
      ],
      "metadata": {
        "id": "P2ToBBPYCYDU"
      }
    },
    {
      "cell_type": "code",
      "execution_count": 18,
      "metadata": {
        "id": "I73fi7BRwWJL"
      },
      "outputs": [],
      "source": [
        "# model library\n",
        "import tensorflow as tf\n",
        "\n",
        "# image processing libraries\n",
        "from keras.utils import load_img\n",
        "from keras.utils import img_to_array\n",
        "from PIL import Image\n",
        "import numpy as np\n",
        "import matplotlib.pyplot as plt\n",
        "import math\n",
        "\n",
        "# folder reading libraries\n",
        "import glob\n",
        "import os\n",
        "from google.colab import drive"
      ]
    },
    {
      "cell_type": "code",
      "source": [
        "drive.mount('/content/drive/')"
      ],
      "metadata": {
        "colab": {
          "base_uri": "https://localhost:8080/"
        },
        "id": "hIwemdGv0Big",
        "outputId": "c27eb3d4-1242-4f6f-9001-a196b5c817f9"
      },
      "execution_count": 2,
      "outputs": [
        {
          "output_type": "stream",
          "name": "stdout",
          "text": [
            "Mounted at /content/drive/\n",
            "/content/drive/My Drive/CV data\n"
          ]
        }
      ]
    },
    {
      "cell_type": "code",
      "source": [
        "%cd \"/content/drive/My Drive/Maldonado Lab\""
      ],
      "metadata": {
        "colab": {
          "base_uri": "https://localhost:8080/"
        },
        "id": "zmGfmqB2xOsN",
        "outputId": "8934ab54-3988-4ba4-b817-aac3c9e07882"
      },
      "execution_count": 44,
      "outputs": [
        {
          "output_type": "stream",
          "name": "stdout",
          "text": [
            "/content/drive/My Drive/Maldonado Lab\n"
          ]
        }
      ]
    },
    {
      "cell_type": "code",
      "source": [
        "def gather_png_data(folder_path): # function to read in PNG image files\n",
        "    files = glob.glob(folder_path + \"/*.png\")\n",
        "    img_array = []\n",
        "    for img in files:\n",
        "        img = load_img(img, color_mode = \"grayscale\")\n",
        "        img = img_to_array(img)  # convert PIL format to numpy array (note: 255 is white and 0 black)\n",
        "        img_array.append(img)\n",
        "    img_array = np.array(img_array)\n",
        "    # map values to 0-1 such that 0 represents white, 1 represents black: better for model to process since white is not needed\n",
        "    img_array = -(img_array/255) + 1\n",
        "    return np.squeeze(img_array)\n",
        "\n",
        "def listdir_non_hidden(folder_path): # function to only gather non-hidden folders\n",
        "    folders = []\n",
        "    for folder in os.listdir(folder_path):\n",
        "        if not folder.startswith('.'):\n",
        "            folders.append(folder)\n",
        "    return folders\n",
        "    \n",
        "def display_predictions(category, number): # takes in the index of the category and the index position of exprimental data \n",
        "    fig, ax = plt.subplots(1,2, gridspec_kw={'width_ratios': [1, 2]}, figsize=(25,10))\n",
        "    # first subplot\n",
        "    ax[0].imshow(exp_datas[category][number], cmap= \"binary\")\n",
        "    ax[0].set_xticks([])\n",
        "    ax[0].set_yticks([])\n",
        "    ax[0].set_title(f\"Experimental Category: {exp_folder[category]}\", size = 20)\n",
        "\n",
        "    # second subplot \n",
        "    thisplot = ax[1].bar(range(len(labels)), predictions[category][number], color=\"#FFCCCB\")\n",
        "    ax[1].set_xticks(range(len(labels)))\n",
        "    ax[1].set_yticks([])\n",
        "    ax[1].set_ylim([0,1])\n",
        "    predicted_label = np.argmax(predictions[category][number])\n",
        "    thisplot[predicted_label].set_color('#90EE90')\n",
        "    ax[1].set_title(f\"Predicted Category: {predicted_label} ({labels[predicted_label]})\", size = 20)\n",
        "    # to label each bar with percentage on top   \n",
        "    for i, v in enumerate(predictions[category][number]):\n",
        "        ax[1].text(i - 0.5, v + 0.01, str(round(v*100,2)) + '%', color='blue', rotation = 45, size = 8)\n",
        "    "
      ],
      "metadata": {
        "id": "KGN4G_v2wfyu"
      },
      "execution_count": 68,
      "outputs": []
    },
    {
      "cell_type": "code",
      "source": [
        "# EXPERIMENTAL DATA\n",
        "experimental_path = (\"CV data/experimental/\") # folder path of experimental data relative to code, note: add \"/\" at end\n",
        "exp_folder = listdir_non_hidden(experimental_path)\n",
        "exp_datas = []\n",
        "\n",
        "# iterates through experimental data folder and appends data into a list\n",
        "for folders in exp_folder:\n",
        "    data = gather_png_data(experimental_path + folders)\n",
        "    exp_datas.append(data) \n",
        "\n",
        "#exp_data[0] ---> first category\n",
        "#exp_data[1] ---> second category\n",
        "\n",
        "\n",
        "# if only one data, need to add dimensionality to be consistent (happens automatically if more than 1 exp data, COMMENT OUT BELOW CODE IF > 1)\n",
        "# test_data = np.expand_dims(test_data, axis = 0)\n"
      ],
      "metadata": {
        "id": "4hC6udzvvjo_"
      },
      "execution_count": 26,
      "outputs": []
    },
    {
      "cell_type": "code",
      "source": [
        "exp_datas[1].shape"
      ],
      "metadata": {
        "colab": {
          "base_uri": "https://localhost:8080/"
        },
        "id": "9ll4kSCgvvs0",
        "outputId": "7986fc02-9795-49a6-b6c5-5e2db0a2161f"
      },
      "execution_count": 27,
      "outputs": [
        {
          "output_type": "execute_result",
          "data": {
            "text/plain": [
              "(10, 208, 208)"
            ]
          },
          "metadata": {},
          "execution_count": 27
        }
      ]
    },
    {
      "cell_type": "code",
      "source": [
        "## NOTE: code uses approx 4.94 GB of RAM - MUST LOOK TO REDUCE.\n",
        "## code takes approx 8 minutes to gather data\n",
        "\n",
        "# TRAINING DATA\n",
        "training_path = (\"CV data/training/training_data_12_2_images/\") # folder path of training data relative to code, note: add \"/\" at end\n",
        "data_folder = listdir_non_hidden(training_path)\n",
        "trn_data = []\n",
        "class_names = []\n",
        "\n",
        "# iterates through data folder and appends data into a list\n",
        "for folders in data_folder:\n",
        "    data = gather_png_data(training_path + folders)\n",
        "    trn_data.append(data)\n",
        "\n",
        "# self-made labels for easy reference into the categories folder\n",
        "for i in range(len(trn_data)):\n",
        "    class_names.append(i+1) # number in class_names corresponds to the number in categories array, not the index\n",
        "\n",
        "# generates category labels based on training data folder names\n",
        "labels = []\n",
        "for folders in data_folder:\n",
        "    labels.append(folders)"
      ],
      "metadata": {
        "id": "yWBUPhzhwiXN"
      },
      "execution_count": 30,
      "outputs": []
    },
    {
      "cell_type": "code",
      "source": [
        "## NOTE: code is inefficient!!! RAM usage doubled after running cell: potential reason: a different variable name was declared to hold same data in numpy stacked form (form used to feed into model)\n",
        "\n",
        "split_percent = 30 # represents the percentage of validation data for each category that will be taken out\n",
        "\n",
        "train_labels = []\n",
        "validation_labels = []\n",
        "split_arr = []\n",
        "\n",
        "for i in range(len(trn_data)):\n",
        "    # split data into training and validation sets\n",
        "    x = round(trn_data[i].shape[0] * split_percent/100)\n",
        "    split = np.array_split(trn_data[i],[0,x],axis=0) # array split returns 3 values of sub_arrays, 1 being a 0 dimension (useless)\n",
        "    split_arr.append(split)\n",
        "    \n",
        "    # generate own labels for training purposes into train & validate group, i.e. each data[i] group is its own category\n",
        "    for j in range(len(trn_data[i])):\n",
        "        if j<x:\n",
        "            validation_labels.append(i)\n",
        "        else:\n",
        "            train_labels.append(i)\n",
        "# convert labels to numpy array to input into model         \n",
        "train_labels = np.array(train_labels)\n",
        "validation_labels = np.array(validation_labels)\n",
        "\n",
        "# create training & validating set by stacking along axis = 0\n",
        "validation = []\n",
        "train = []\n",
        "for i in range(len(split_arr)):\n",
        "    validation.append(split_arr[i][1])\n",
        "    train.append(split_arr[i][2])\n",
        "\n",
        "train_data = np.vstack(train)\n",
        "validation_data = np.vstack(validation)\n",
        "\n",
        "x,y= train_data.shape[1],train_data.shape[2]"
      ],
      "metadata": {
        "id": "KiAm-Mkbwzj0"
      },
      "execution_count": 31,
      "outputs": []
    },
    {
      "cell_type": "code",
      "source": [
        "model = tf.keras.Sequential([ #number of nodes were arbitarily set based on validation accuracy \n",
        "    tf.keras.layers.Flatten(input_shape=(x,y)),\n",
        "    tf.keras.layers.Dense(len(labels)*2, activation='relu'),\n",
        "    tf.keras.layers.Dense(len(labels))])\n",
        "\n",
        "\n",
        "model.compile(optimizer='adam',\n",
        "              loss=tf.keras.losses.SparseCategoricalCrossentropy(from_logits=True),\n",
        "              metrics=['accuracy'])\n",
        "\n",
        "model.fit(train_data, train_labels, epochs=8) \n",
        "# 40 epochs take avg 20 x 40 = 800 seconds (~13 minutes)\n",
        "# slow training accuracy - peaks around 95%\n",
        "\n",
        "validate_loss, validate_acc = model.evaluate(validation_data,  validation_labels, verbose=2, batch_size=32) #verbose is method of acknowledging program is running\n",
        "print('\\nValidation accuracy:', validate_acc)"
      ],
      "metadata": {
        "id": "ZXArKAjVw5ST",
        "colab": {
          "base_uri": "https://localhost:8080/"
        },
        "outputId": "1d94135e-42ef-4757-8f76-7a5e4e6367fe"
      },
      "execution_count": 32,
      "outputs": [
        {
          "output_type": "stream",
          "name": "stdout",
          "text": [
            "Epoch 1/8\n",
            "526/526 [==============================] - 18s 32ms/step - loss: 2.2419 - accuracy: 0.2284\n",
            "Epoch 2/8\n",
            "526/526 [==============================] - 17s 32ms/step - loss: 1.6093 - accuracy: 0.3478\n",
            "Epoch 3/8\n",
            "526/526 [==============================] - 17s 32ms/step - loss: 1.4063 - accuracy: 0.4115\n",
            "Epoch 4/8\n",
            "526/526 [==============================] - 18s 34ms/step - loss: 1.2656 - accuracy: 0.4668\n",
            "Epoch 5/8\n",
            "526/526 [==============================] - 24s 45ms/step - loss: 1.1571 - accuracy: 0.5118\n",
            "Epoch 6/8\n",
            "526/526 [==============================] - 19s 35ms/step - loss: 1.0391 - accuracy: 0.5642\n",
            "Epoch 7/8\n",
            "526/526 [==============================] - 23s 45ms/step - loss: 0.9737 - accuracy: 0.5952\n",
            "Epoch 8/8\n",
            "526/526 [==============================] - 20s 38ms/step - loss: 0.9018 - accuracy: 0.6279\n",
            "226/226 - 2s - loss: 0.9513 - accuracy: 0.5976 - 2s/epoch - 10ms/step\n",
            "\n",
            "Validation accuracy: 0.5975576043128967\n"
          ]
        }
      ]
    },
    {
      "cell_type": "code",
      "source": [
        "model.fit(train_data, train_labels, epochs=8)"
      ],
      "metadata": {
        "colab": {
          "base_uri": "https://localhost:8080/"
        },
        "id": "LtXg2_0i3_Yg",
        "outputId": "566d89e0-4c07-45b9-b264-7d529a51f84d"
      },
      "execution_count": 33,
      "outputs": [
        {
          "output_type": "stream",
          "name": "stdout",
          "text": [
            "Epoch 1/8\n",
            "526/526 [==============================] - 18s 34ms/step - loss: 0.8273 - accuracy: 0.6657\n",
            "Epoch 2/8\n",
            "526/526 [==============================] - 17s 33ms/step - loss: 0.7716 - accuracy: 0.6894\n",
            "Epoch 3/8\n",
            "526/526 [==============================] - 18s 34ms/step - loss: 0.7130 - accuracy: 0.7240\n",
            "Epoch 4/8\n",
            "526/526 [==============================] - 22s 42ms/step - loss: 0.6667 - accuracy: 0.7469\n",
            "Epoch 5/8\n",
            "526/526 [==============================] - 19s 36ms/step - loss: 0.6258 - accuracy: 0.7622\n",
            "Epoch 6/8\n",
            "526/526 [==============================] - 17s 33ms/step - loss: 0.5830 - accuracy: 0.7888\n",
            "Epoch 7/8\n",
            "526/526 [==============================] - 21s 39ms/step - loss: 0.5594 - accuracy: 0.7943\n",
            "Epoch 8/8\n",
            "526/526 [==============================] - 19s 36ms/step - loss: 0.5266 - accuracy: 0.8160\n"
          ]
        },
        {
          "output_type": "execute_result",
          "data": {
            "text/plain": [
              "<keras.callbacks.History at 0x7f2380b2a370>"
            ]
          },
          "metadata": {},
          "execution_count": 33
        }
      ]
    },
    {
      "cell_type": "code",
      "source": [
        "validate_loss, validate_acc = model.evaluate(validation_data,  validation_labels, verbose=2, batch_size=32) #verbose is method of acknowledging program is running\n",
        "print('\\nValidation accuracy:', validate_acc)\n",
        "model.fit(train_data, train_labels, epochs=8)"
      ],
      "metadata": {
        "colab": {
          "base_uri": "https://localhost:8080/"
        },
        "id": "ge6wQtoW4flu",
        "outputId": "e5bc41b6-15fa-4871-da55-1001a2290f0c"
      },
      "execution_count": 34,
      "outputs": [
        {
          "output_type": "stream",
          "name": "stdout",
          "text": [
            "226/226 - 2s - loss: 0.5442 - accuracy: 0.8114 - 2s/epoch - 10ms/step\n",
            "\n",
            "Validation accuracy: 0.8114071488380432\n",
            "Epoch 1/8\n",
            "526/526 [==============================] - 17s 33ms/step - loss: 0.5001 - accuracy: 0.8269\n",
            "Epoch 2/8\n",
            "526/526 [==============================] - 17s 32ms/step - loss: 0.4678 - accuracy: 0.8455\n",
            "Epoch 3/8\n",
            "526/526 [==============================] - 17s 32ms/step - loss: 0.4411 - accuracy: 0.8565\n",
            "Epoch 4/8\n",
            "526/526 [==============================] - 17s 32ms/step - loss: 0.4459 - accuracy: 0.8477\n",
            "Epoch 5/8\n",
            "526/526 [==============================] - 17s 32ms/step - loss: 0.4115 - accuracy: 0.8610\n",
            "Epoch 6/8\n",
            "526/526 [==============================] - 17s 32ms/step - loss: 0.3848 - accuracy: 0.8823\n",
            "Epoch 7/8\n",
            "526/526 [==============================] - 17s 33ms/step - loss: 0.3653 - accuracy: 0.8922\n",
            "Epoch 8/8\n",
            "526/526 [==============================] - 17s 33ms/step - loss: 0.3570 - accuracy: 0.8943\n"
          ]
        },
        {
          "output_type": "execute_result",
          "data": {
            "text/plain": [
              "<keras.callbacks.History at 0x7f2380aefac0>"
            ]
          },
          "metadata": {},
          "execution_count": 34
        }
      ]
    },
    {
      "cell_type": "code",
      "source": [
        "validate_loss, validate_acc = model.evaluate(validation_data,  validation_labels, verbose=2, batch_size=32) #verbose is method of acknowledging program is running\n",
        "print('\\nValidation accuracy:', validate_acc)\n",
        "model.fit(train_data, train_labels, epochs=8)"
      ],
      "metadata": {
        "colab": {
          "base_uri": "https://localhost:8080/"
        },
        "id": "Z4msgKEe5IEP",
        "outputId": "b0186f4e-1efc-4304-e808-ab2a82ce70e0"
      },
      "execution_count": 35,
      "outputs": [
        {
          "output_type": "stream",
          "name": "stdout",
          "text": [
            "226/226 - 2s - loss: 0.3631 - accuracy: 0.8752 - 2s/epoch - 11ms/step\n",
            "\n",
            "Validation accuracy: 0.8752428293228149\n",
            "Epoch 1/8\n",
            "526/526 [==============================] - 17s 32ms/step - loss: 0.3351 - accuracy: 0.9036\n",
            "Epoch 2/8\n",
            "526/526 [==============================] - 17s 32ms/step - loss: 0.3195 - accuracy: 0.9146\n",
            "Epoch 3/8\n",
            "526/526 [==============================] - 20s 39ms/step - loss: 0.3055 - accuracy: 0.9158\n",
            "Epoch 4/8\n",
            "526/526 [==============================] - 19s 36ms/step - loss: 0.2987 - accuracy: 0.9136\n",
            "Epoch 5/8\n",
            "526/526 [==============================] - 17s 32ms/step - loss: 0.2804 - accuracy: 0.9260\n",
            "Epoch 6/8\n",
            "526/526 [==============================] - 17s 33ms/step - loss: 0.2840 - accuracy: 0.9216\n",
            "Epoch 7/8\n",
            "526/526 [==============================] - 17s 32ms/step - loss: 0.2650 - accuracy: 0.9329\n",
            "Epoch 8/8\n",
            "526/526 [==============================] - 17s 32ms/step - loss: 0.2456 - accuracy: 0.9361\n"
          ]
        },
        {
          "output_type": "execute_result",
          "data": {
            "text/plain": [
              "<keras.callbacks.History at 0x7f2384f5cb50>"
            ]
          },
          "metadata": {},
          "execution_count": 35
        }
      ]
    },
    {
      "cell_type": "code",
      "source": [
        "validate_loss, validate_acc = model.evaluate(validation_data,  validation_labels, verbose=2, batch_size=32) #verbose is method of acknowledging program is running\n",
        "print('\\nValidation accuracy:', validate_acc)\n",
        "model.fit(train_data, train_labels, epochs=8)"
      ],
      "metadata": {
        "colab": {
          "base_uri": "https://localhost:8080/"
        },
        "id": "HcqvvaOo52jk",
        "outputId": "afaeefc0-2c19-4abe-ba4d-615c926ed1b4"
      },
      "execution_count": 37,
      "outputs": [
        {
          "output_type": "stream",
          "name": "stdout",
          "text": [
            "226/226 - 2s - loss: 0.2961 - accuracy: 0.9262 - 2s/epoch - 10ms/step\n",
            "\n",
            "Validation accuracy: 0.9261726140975952\n",
            "Epoch 1/8\n",
            "526/526 [==============================] - 18s 34ms/step - loss: 0.2576 - accuracy: 0.9266\n",
            "Epoch 2/8\n",
            "526/526 [==============================] - 25s 47ms/step - loss: 0.2362 - accuracy: 0.9411\n",
            "Epoch 3/8\n",
            "526/526 [==============================] - 17s 33ms/step - loss: 0.2600 - accuracy: 0.9219\n",
            "Epoch 4/8\n",
            "526/526 [==============================] - 17s 33ms/step - loss: 0.2115 - accuracy: 0.9491\n",
            "Epoch 5/8\n",
            "526/526 [==============================] - 18s 34ms/step - loss: 0.2137 - accuracy: 0.9483\n",
            "Epoch 6/8\n",
            "526/526 [==============================] - 20s 37ms/step - loss: 0.2270 - accuracy: 0.9395\n",
            "Epoch 7/8\n",
            "526/526 [==============================] - 19s 35ms/step - loss: 0.1882 - accuracy: 0.9601\n",
            "Epoch 8/8\n",
            "526/526 [==============================] - 20s 37ms/step - loss: 0.1983 - accuracy: 0.9511\n"
          ]
        },
        {
          "output_type": "execute_result",
          "data": {
            "text/plain": [
              "<keras.callbacks.History at 0x7f237d46b9d0>"
            ]
          },
          "metadata": {},
          "execution_count": 37
        }
      ]
    },
    {
      "cell_type": "code",
      "source": [
        "validate_loss, validate_acc = model.evaluate(validation_data,  validation_labels, verbose=2, batch_size=32) #verbose is method of acknowledging program is running\n",
        "print('\\nValidation accuracy:', validate_acc)"
      ],
      "metadata": {
        "colab": {
          "base_uri": "https://localhost:8080/"
        },
        "id": "juTeDWqt6nlN",
        "outputId": "7d384c90-bd09-4846-f927-b4f26faa2dc4"
      },
      "execution_count": 38,
      "outputs": [
        {
          "output_type": "stream",
          "name": "stdout",
          "text": [
            "226/226 - 2s - loss: 0.2042 - accuracy: 0.9602 - 2s/epoch - 9ms/step\n",
            "\n",
            "Validation accuracy: 0.9601720571517944\n"
          ]
        }
      ]
    },
    {
      "cell_type": "code",
      "source": [
        "path = 'weights/attempt1/'\n",
        "model.save_weights(path)"
      ],
      "metadata": {
        "colab": {
          "base_uri": "https://localhost:8080/"
        },
        "id": "fRxVFYG07GYI",
        "outputId": "e329256c-9c53-4f04-8ae5-8401b6b5e182"
      },
      "execution_count": 49,
      "outputs": [
        {
          "output_type": "stream",
          "name": "stdout",
          "text": [
            " checkpoint   \u001b[0m\u001b[01;34mweights\u001b[0m/                      weights.index\n",
            "\u001b[01;34m'CV data'\u001b[0m/    weights.data-00000-of-00001\n"
          ]
        }
      ]
    },
    {
      "cell_type": "code",
      "source": [
        "cv_model = tf.keras.Sequential([model, tf.keras.layers.Softmax()])"
      ],
      "metadata": {
        "id": "wgXaIfDCyqwD"
      },
      "execution_count": 52,
      "outputs": []
    },
    {
      "cell_type": "code",
      "source": [
        "print(\"The following experimental datas are available: \")\n",
        "for i, folders in enumerate(exp_folder):\n",
        "  print(f\"exp_datas[{i}]:\", folders,f\", number of images: {len(exp_data[i])}\")"
      ],
      "metadata": {
        "colab": {
          "base_uri": "https://localhost:8080/"
        },
        "id": "6luwhiAYy0uG",
        "outputId": "aeac6152-0beb-405b-b7fd-b90679d101f6"
      },
      "execution_count": 100,
      "outputs": [
        {
          "output_type": "stream",
          "name": "stdout",
          "text": [
            "The following experimental datas are available: \n",
            "exp_datas[0]: Benzyl Viologen_10^15Doped_Methanol_images , number of images: 14\n",
            "exp_datas[1]: MV_LD_Air_images , number of images: 10\n"
          ]
        }
      ]
    },
    {
      "cell_type": "code",
      "source": [
        "predictions = []\n",
        "for i in range(len(exp_datas)):\n",
        "  prediction = cv_model.predict(exp_datas[i], batch_size = 32)\n",
        "  predictions.append(prediction)"
      ],
      "metadata": {
        "id": "rjdMhzdUxOjF",
        "colab": {
          "base_uri": "https://localhost:8080/"
        },
        "outputId": "da868775-8cff-4b90-e6d0-55fd333c65de"
      },
      "execution_count": 55,
      "outputs": [
        {
          "output_type": "stream",
          "name": "stdout",
          "text": [
            "1/1 [==============================] - 0s 28ms/step\n",
            "1/1 [==============================] - 0s 20ms/step\n"
          ]
        }
      ]
    },
    {
      "cell_type": "code",
      "source": [
        "display_predictions(0,13)"
      ],
      "metadata": {
        "id": "GR240PBXxZsM",
        "colab": {
          "base_uri": "https://localhost:8080/",
          "height": 612
        },
        "outputId": "0a23d4b1-285c-4029-ac3e-5de68768ebfc"
      },
      "execution_count": 101,
      "outputs": [
        {
          "output_type": "display_data",
          "data": {
            "text/plain": [
              "<Figure size 1800x720 with 2 Axes>"
            ],
            "image/png": "[encoded data removed]"
          },
          "metadata": {
            "needs_background": "light"
          }
        }
      ]
    }
  ]
}