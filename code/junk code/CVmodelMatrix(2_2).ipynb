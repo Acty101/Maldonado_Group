{
  "nbformat": 4,
  "nbformat_minor": 0,
  "metadata": {
    "colab": {
      "provenance": []
    },
    "kernelspec": {
      "name": "python3",
      "display_name": "Python 3"
    },
    "language_info": {
      "name": "python"
    }
  },
  "cells": [
    {
      "cell_type": "code",
      "execution_count": 45,
      "metadata": {
        "id": "VkFv6iYwhmFg",
        "colab": {
          "base_uri": "https://localhost:8080/"
        },
        "outputId": "a951c782-2b25-47b0-f62d-24237e5c6143"
      },
      "outputs": [
        {
          "output_type": "stream",
          "name": "stdout",
          "text": [
            "Drive already mounted at /content/drive/; to attempt to forcibly remount, call drive.mount(\"/content/drive/\", force_remount=True).\n",
            "/content/drive/My Drive/Maldonado Lab\n"
          ]
        }
      ],
      "source": [
        "from pandas.core.api import DataFrame\n",
        "from prompt_toolkit.application import current\n",
        "import pandas as pd\n",
        "import numpy as np\n",
        "import glob\n",
        "import os\n",
        "import tensorflow as tf\n",
        "from tensorflow.keras import layers, models\n",
        "from google.colab import drive\n",
        "from tabulate import tabulate\n",
        "import matplotlib.pyplot as plt\n",
        "\n",
        "# REQUIRES: Dataframe has an even number of cols, and column of interest is at every even column\n",
        "# EFFECT: Drops all odd columns in a dataframe\n",
        "def drop_odd_cols(dataframe):\n",
        "  df = dataframe\n",
        "  col_drop_list = []\n",
        "  for i,col in enumerate(df.columns): \n",
        "    if(i % 2 == 0):\n",
        "      col_drop_list.append(col)\n",
        "  df = df.drop(col_drop_list,axis = 1)\n",
        "  return df\n",
        "\n",
        "\n",
        "# REQUIRES: Folder path must be 1 directories above .xlsx files ({INPUT_PATH} -- > xlsx files)\n",
        "# EFFECT: Reads all xlsx files and returns a 3D numpy array (batch_size, x,y) with data stacked along new axis (axis = 0)\n",
        "def excel_reader(folder_path): \n",
        "    files = glob.glob(folder_path + \"/*.xlsx\")\n",
        "    df_list = []\n",
        "    for file in files:\n",
        "        df = pd.read_excel(file)\n",
        "        df = drop_odd_cols(df)\n",
        "        df_list.append(df)\n",
        "    np_array = np.array(list(map(lambda x: x.to_numpy(), df_list)))\n",
        "    np_array = np_array.reshape((len(df_list), len(df.axes[0]), len(df.axes[1])))\n",
        "    return np_array\n",
        "\n",
        "# EFFECT: Returns list of non-hidden folders & files present in a directory \n",
        "def listdir_non_hidden(folder_path): \n",
        "    folders = []\n",
        "    for folder in os.listdir(folder_path):\n",
        "        if not folder.startswith('.'):\n",
        "            folders.append(folder)\n",
        "    return folders\n",
        "\n",
        "# REQUIRES: x,y,z be not empty\n",
        "# EEFECT: generate model structure based on input shape of x,y,z\n",
        "def create_model(datas, x,y,z):\n",
        "  model = tf.keras.Sequential([\n",
        "      layers.Conv2D(32, (3, 3), activation='relu', input_shape=(x,y,z)),\n",
        "      layers.MaxPooling2D((2, 2)),\n",
        "      layers.Conv2D(64, (3, 3), activation='relu'),\n",
        "      layers.MaxPooling2D((2, 2)),\n",
        "      layers.Flatten(),\n",
        "      layers.Dense(100, activation='relu'),\n",
        "      layers.Dense(len(datas)*4, activation = 'relu'),\n",
        "      layers.Dense(len(datas)),\n",
        "      layers.Softmax()]) # UNCERTAINTY: is softmax allowed here?\n",
        "\n",
        "  model.compile(optimizer='adam',\n",
        "                loss=tf.keras.losses.SparseCategoricalCrossentropy(from_logits=True),\n",
        "                metrics=['accuracy'])\n",
        "      \n",
        "  return model\n",
        "\n",
        "# REQUIRES: Model weights in folder must match current model architecture\n",
        "# EFFECT: Load a model from its saved weights\n",
        "def load_model(path, x,y,z):\n",
        "  model = create_model(x,y,z)\n",
        "  model.load_weights(path)\n",
        "  return model\n",
        "\n",
        "# REQUIRES: - Maximum and minimum values are more than and less than 0 respectively \n",
        "#           - Folder path must be 2 directories above .xlsx files ({INPUT_PATH} -- > categories -- > xlsx files)\n",
        "# EFFECT: Summarizes data of xslx files in a folder by returning four items: \n",
        "#         1. maximum value, 2. minimum value, 3. regular array whose elements are numpy datas corresponding to categories (e.g. [np1,np2,np3] ), 4. folder categories\n",
        "def summarize(path):\n",
        "  folders = listdir_non_hidden(path)\n",
        "  max_val = 0\n",
        "  min_val = 0\n",
        "  datas = []\n",
        "  for folder in folders:\n",
        "    data = excel_reader(path + folder)\n",
        "    current_max = data.max()\n",
        "    current_min = data.min()\n",
        "    if(max_val < current_max):\n",
        "      max_val = current_max\n",
        "    if(min_val > current_min):\n",
        "      min_val = current_min\n",
        "    datas.append(data)\n",
        "  return datas, max_val, min_val, folders\n",
        "\n",
        "# REQUIRES: Index >= 0, predictions is a 2D array and >= 3 along axis = 0, and choices reflect number of output nodes for model & are accurate in name\n",
        "# EFFECT: Prints top 3 predictions for a given data with their respective probabilities\n",
        "def predict_top_three(index, predictions, choices):\n",
        "  prediction = []\n",
        "  for i in range(len(predictions[index])):\n",
        "    prediction.append(predictions[index][i])\n",
        "  prediction = np.asarray(prediction)\n",
        "  ranks = []\n",
        "  for i in range(3):\n",
        "    current_index = np.argmax(prediction)\n",
        "    ranks.append(current_index)\n",
        "    prediction[current_index] = 0\n",
        "  print(\"The top three predictions are:\")\n",
        "  print(\"1.\", choices[ranks[0]], \"with probability of\", predictions[index][ranks[0]])\n",
        "  print(\"2.\", choices[ranks[1]], \"with probability of\", predictions[index][ranks[1]])\n",
        "  print(\"3.\", choices[ranks[2]], \"with probability of\", predictions[index][ranks[2]])\n",
        "  print()\n",
        "  return\n",
        "\n",
        "# REQUIRES: start_index, num_terms > 0, predictions is a 2D array and >= 3 along axis = 0, and choices reflect number of output nodes for model\n",
        "# EFFECT: Prints top prediction for a given range (start-end)\n",
        "def predict_top_three_multiple(start_index,num_terms, predictions,choices):\n",
        "  range_predictions = predictions[start_index:start_index + num_terms]\n",
        "  for i in range(num_terms):\n",
        "    print(\"Data(\", i, \")\")\n",
        "    predict_top_three(i,range_predictions,choices)\n",
        "  return\n",
        "\n",
        "# REQUIRES: Index >= 0, data is a 4D array, predictions is a 2D array, choices reflect number of nodes of output, category is 1D array containing names of experimental categories\n",
        "# EFFECT: Display a summary of a specific experimental data using a bar graph\n",
        "def display_predictions(index, data, predictions, choices, category, category_index): \n",
        "    fig, ax = plt.subplots(1,2, gridspec_kw={'width_ratios': [1, 3]}, figsize=(25,10))\n",
        "    # first subplot\n",
        "    ax[0].imshow(data[index,:,:,0], aspect = 'auto', cmap = 'seismic')\n",
        "    ax[0].set_xticks([])\n",
        "    ax[0].set_yticks([])\n",
        "    ax[0].set_title(f\"Data({index}) from category: {category[category_index[index]]}\", size = 20)\n",
        "    # second subplot \n",
        "    thisplot = ax[1].bar(range(len(category)), predictions[index], color=\"#FFCCCB\")\n",
        "    ax[1].set_xticks(range(len(category)))\n",
        "    ax[1].set_yticks([])\n",
        "    ax[1].set_ylim([0,1])\n",
        "    predicted_label = np.argmax(predictions[index])\n",
        "    thisplot[predicted_label].set_color('#90EE90')\n",
        "    ax[1].set_title(f\"Predicted Category: {category[predicted_label]} ({predicted_label} on graph)\", size = 20)\n",
        "    # to label each bar with percentage on top   \n",
        "    for i, p in enumerate(predictions[index]):\n",
        "        ax[1].text(i - 0.05, p + 0.01, str(round(p*100,2)) + '%', color='blue', size = 8)\n",
        "\n",
        "drive.mount('/content/drive/')\n",
        "%cd \"/content/drive/My Drive/Maldonado Lab/\"\n"
      ]
    },
    {
      "cell_type": "code",
      "source": [
        "# relative path to training data \n",
        "trn_data_path =  \"matrix-data/\"\n",
        "# relative path to experimental data\n",
        "exp_data_path =  \"matrix-data/\"\n",
        "\n",
        "# gather training datas & make labels\n",
        "trn_datas, max_trn_val, min_trn_val, trn_categories = summarize(trn_data_path)\n",
        "train_data = np.vstack(trn_datas)\n",
        "train_labels = []\n",
        "for i in range(len(trn_datas)):\n",
        "    for j in range(len(trn_datas[i])):\n",
        "        train_labels.append(i)\n",
        "train_labels = np.asarray(train_labels)\n",
        "\n",
        "# gather experimental data & make categories\n",
        "exp_datas, max_exp_val, min_exp_val, exp_categories = summarize(exp_data_path)\n",
        "experimental_data = np.vstack(exp_datas)\n",
        "exp_categories_index = []\n",
        "for i in range(len(exp_datas)):\n",
        "  for j in range(len(exp_datas[i])):\n",
        "    exp_categories_index.append(i)\n",
        "exp_categories_index = np.asarray(exp_categories_index)\n",
        "\n",
        "# normalize data (shift range from negative-positive values to 0-1 values)\n",
        "max_val = max(max_trn_val,max_exp_val)\n",
        "min_val = min(min_trn_val,min_exp_val)\n",
        "train_data = (train_data - min_val) / (max_val - min_val)\n",
        "experimental_data = (experimental_data - min_val) / (max_val - min_val)\n",
        "# write max and min value to txt file for future data checking/normalization\n",
        "os.remove('max-min.txt')\n",
        "np.savetxt('max-min.txt',[max_val,min_val])\n",
        "\n",
        "# add dimensionality along last axis (3D --> 4D) since CNN requires 4D input\n",
        "train_data = np.expand_dims(train_data, axis = len(train_data.shape))\n",
        "experimental_data = np.expand_dims(experimental_data, axis = len(experimental_data.shape))\n",
        "\n",
        "print(\"Dimensions of training data:\",train_data.shape)\n",
        "print(\"Dimensions of experimental data:\",experimental_data.shape)\n"
      ],
      "metadata": {
        "id": "RyIB5y1nRkPU",
        "colab": {
          "base_uri": "https://localhost:8080/"
        },
        "outputId": "db605d88-33ba-4a70-805a-9fe2ce3ed587"
      },
      "execution_count": 32,
      "outputs": [
        {
          "output_type": "stream",
          "name": "stdout",
          "text": [
            "Dimensions of training data: (15, 426, 14, 1)\n",
            "Dimensions of experimental data: (15, 426, 14, 1)\n"
          ]
        }
      ]
    },
    {
      "cell_type": "code",
      "source": [
        "# make instance of model\n",
        "x,y,z = train_data.shape[1], train_data.shape[2], train_data.shape[3]\n",
        "model = create_model(trn_datas,x,y,z)\n",
        "model.summary()"
      ],
      "metadata": {
        "id": "JFELY9-qRnxe",
        "colab": {
          "base_uri": "https://localhost:8080/"
        },
        "outputId": "4c76aa4d-d457-4c84-81ee-408588502eb3"
      },
      "execution_count": 46,
      "outputs": [
        {
          "output_type": "stream",
          "name": "stdout",
          "text": [
            "Model: \"sequential_6\"\n",
            "_________________________________________________________________\n",
            " Layer (type)                Output Shape              Param #   \n",
            "=================================================================\n",
            " conv2d_17 (Conv2D)          (None, 424, 12, 32)       320       \n",
            "                                                                 \n",
            " max_pooling2d_17 (MaxPoolin  (None, 212, 6, 32)       0         \n",
            " g2D)                                                            \n",
            "                                                                 \n",
            " conv2d_18 (Conv2D)          (None, 210, 4, 64)        18496     \n",
            "                                                                 \n",
            " max_pooling2d_18 (MaxPoolin  (None, 105, 2, 64)       0         \n",
            " g2D)                                                            \n",
            "                                                                 \n",
            " flatten_6 (Flatten)         (None, 13440)             0         \n",
            "                                                                 \n",
            " dense_18 (Dense)            (None, 100)               1344100   \n",
            "                                                                 \n",
            " dense_19 (Dense)            (None, 12)                1212      \n",
            "                                                                 \n",
            " dense_20 (Dense)            (None, 3)                 39        \n",
            "                                                                 \n",
            " softmax_6 (Softmax)         (None, 3)                 0         \n",
            "                                                                 \n",
            "=================================================================\n",
            "Total params: 1,364,167\n",
            "Trainable params: 1,364,167\n",
            "Non-trainable params: 0\n",
            "_________________________________________________________________\n"
          ]
        }
      ]
    },
    {
      "cell_type": "code",
      "source": [
        "# train model with 30-70 validation split\n",
        "model.fit(train_data, train_labels, epochs = 50, validation_split = 0.3)"
      ],
      "metadata": {
        "colab": {
          "base_uri": "https://localhost:8080/"
        },
        "id": "Y56WoMq-Tb3p",
        "outputId": "7f1cad2f-b93f-4c2a-985e-15b9c7e01dc6"
      },
      "execution_count": 47,
      "outputs": [
        {
          "output_type": "stream",
          "name": "stdout",
          "text": [
            "Epoch 1/50\n",
            "1/1 [==============================] - 1s 828ms/step - loss: 1.0936 - accuracy: 0.5000 - val_loss: 1.2428 - val_accuracy: 0.0000e+00\n",
            "Epoch 2/50\n",
            "1/1 [==============================] - 0s 108ms/step - loss: 1.0335 - accuracy: 0.6000 - val_loss: 1.3740 - val_accuracy: 0.0000e+00\n",
            "Epoch 3/50\n",
            "1/1 [==============================] - 0s 96ms/step - loss: 0.9839 - accuracy: 0.5000 - val_loss: 1.4398 - val_accuracy: 0.0000e+00\n",
            "Epoch 4/50\n",
            "1/1 [==============================] - 0s 100ms/step - loss: 0.9619 - accuracy: 0.5000 - val_loss: 1.4560 - val_accuracy: 0.0000e+00\n",
            "Epoch 5/50\n",
            "1/1 [==============================] - 0s 103ms/step - loss: 0.9546 - accuracy: 0.5000 - val_loss: 1.4578 - val_accuracy: 0.0000e+00\n",
            "Epoch 6/50\n",
            "1/1 [==============================] - 0s 104ms/step - loss: 0.9499 - accuracy: 1.0000 - val_loss: 1.4580 - val_accuracy: 0.0000e+00\n",
            "Epoch 7/50\n",
            "1/1 [==============================] - 0s 120ms/step - loss: 0.9457 - accuracy: 0.5000 - val_loss: 1.4588 - val_accuracy: 0.0000e+00\n",
            "Epoch 8/50\n",
            "1/1 [==============================] - 0s 98ms/step - loss: 0.9387 - accuracy: 1.0000 - val_loss: 1.4624 - val_accuracy: 0.0000e+00\n",
            "Epoch 9/50\n",
            "1/1 [==============================] - 0s 96ms/step - loss: 0.9317 - accuracy: 0.5000 - val_loss: 1.4593 - val_accuracy: 0.0000e+00\n",
            "Epoch 10/50\n",
            "1/1 [==============================] - 0s 113ms/step - loss: 0.9213 - accuracy: 0.8000 - val_loss: 1.4613 - val_accuracy: 0.0000e+00\n",
            "Epoch 11/50\n",
            "1/1 [==============================] - 0s 102ms/step - loss: 0.9093 - accuracy: 0.9000 - val_loss: 1.4723 - val_accuracy: 0.0000e+00\n",
            "Epoch 12/50\n",
            "1/1 [==============================] - 0s 114ms/step - loss: 0.8963 - accuracy: 0.9000 - val_loss: 1.4618 - val_accuracy: 0.0000e+00\n",
            "Epoch 13/50\n",
            "1/1 [==============================] - 0s 106ms/step - loss: 0.8845 - accuracy: 0.7000 - val_loss: 1.4948 - val_accuracy: 0.0000e+00\n",
            "Epoch 14/50\n",
            "1/1 [==============================] - 0s 97ms/step - loss: 0.8713 - accuracy: 0.7000 - val_loss: 1.4754 - val_accuracy: 0.0000e+00\n",
            "Epoch 15/50\n",
            "1/1 [==============================] - 0s 95ms/step - loss: 0.8486 - accuracy: 0.9000 - val_loss: 1.4919 - val_accuracy: 0.0000e+00\n",
            "Epoch 16/50\n",
            "1/1 [==============================] - 0s 105ms/step - loss: 0.8272 - accuracy: 0.9000 - val_loss: 1.5173 - val_accuracy: 0.0000e+00\n",
            "Epoch 17/50\n",
            "1/1 [==============================] - 0s 108ms/step - loss: 0.8152 - accuracy: 0.9000 - val_loss: 1.4827 - val_accuracy: 0.0000e+00\n",
            "Epoch 18/50\n",
            "1/1 [==============================] - 0s 105ms/step - loss: 0.8238 - accuracy: 0.7000 - val_loss: 1.5328 - val_accuracy: 0.0000e+00\n",
            "Epoch 19/50\n",
            "1/1 [==============================] - 0s 95ms/step - loss: 0.7836 - accuracy: 0.9000 - val_loss: 1.5339 - val_accuracy: 0.0000e+00\n",
            "Epoch 20/50\n",
            "1/1 [==============================] - 0s 104ms/step - loss: 0.7596 - accuracy: 0.8000 - val_loss: 1.5168 - val_accuracy: 0.0000e+00\n",
            "Epoch 21/50\n",
            "1/1 [==============================] - 0s 95ms/step - loss: 0.7707 - accuracy: 0.8000 - val_loss: 1.5450 - val_accuracy: 0.0000e+00\n",
            "Epoch 22/50\n",
            "1/1 [==============================] - 0s 93ms/step - loss: 0.7405 - accuracy: 0.9000 - val_loss: 1.5454 - val_accuracy: 0.0000e+00\n",
            "Epoch 23/50\n",
            "1/1 [==============================] - 0s 107ms/step - loss: 0.7187 - accuracy: 0.8000 - val_loss: 1.5400 - val_accuracy: 0.0000e+00\n",
            "Epoch 24/50\n",
            "1/1 [==============================] - 0s 96ms/step - loss: 0.7271 - accuracy: 0.9000 - val_loss: 1.5496 - val_accuracy: 0.0000e+00\n",
            "Epoch 25/50\n",
            "1/1 [==============================] - 0s 123ms/step - loss: 0.7037 - accuracy: 0.9000 - val_loss: 1.5500 - val_accuracy: 0.0000e+00\n",
            "Epoch 26/50\n",
            "1/1 [==============================] - 0s 130ms/step - loss: 0.6903 - accuracy: 0.8000 - val_loss: 1.5486 - val_accuracy: 0.0000e+00\n",
            "Epoch 27/50\n",
            "1/1 [==============================] - 0s 101ms/step - loss: 0.6954 - accuracy: 0.9000 - val_loss: 1.5509 - val_accuracy: 0.0000e+00\n",
            "Epoch 28/50\n",
            "1/1 [==============================] - 0s 96ms/step - loss: 0.6767 - accuracy: 0.8000 - val_loss: 1.5512 - val_accuracy: 0.0000e+00\n",
            "Epoch 29/50\n",
            "1/1 [==============================] - 0s 96ms/step - loss: 0.6736 - accuracy: 0.9000 - val_loss: 1.5509 - val_accuracy: 0.0000e+00\n",
            "Epoch 30/50\n",
            "1/1 [==============================] - 0s 107ms/step - loss: 0.6739 - accuracy: 0.9000 - val_loss: 1.5513 - val_accuracy: 0.0000e+00\n",
            "Epoch 31/50\n",
            "1/1 [==============================] - 0s 108ms/step - loss: 0.6587 - accuracy: 0.9000 - val_loss: 1.5514 - val_accuracy: 0.0000e+00\n",
            "Epoch 32/50\n",
            "1/1 [==============================] - 0s 99ms/step - loss: 0.6651 - accuracy: 0.9000 - val_loss: 1.5513 - val_accuracy: 0.0000e+00\n",
            "Epoch 33/50\n",
            "1/1 [==============================] - 0s 103ms/step - loss: 0.6589 - accuracy: 0.9000 - val_loss: 1.5514 - val_accuracy: 0.0000e+00\n",
            "Epoch 34/50\n",
            "1/1 [==============================] - 0s 115ms/step - loss: 0.6488 - accuracy: 0.9000 - val_loss: 1.5514 - val_accuracy: 0.0000e+00\n",
            "Epoch 35/50\n",
            "1/1 [==============================] - 0s 107ms/step - loss: 0.6594 - accuracy: 0.9000 - val_loss: 1.5514 - val_accuracy: 0.0000e+00\n",
            "Epoch 36/50\n",
            "1/1 [==============================] - 0s 100ms/step - loss: 0.6482 - accuracy: 0.9000 - val_loss: 1.5514 - val_accuracy: 0.0000e+00\n",
            "Epoch 37/50\n",
            "1/1 [==============================] - 0s 94ms/step - loss: 0.6426 - accuracy: 0.9000 - val_loss: 1.5514 - val_accuracy: 0.0000e+00\n",
            "Epoch 38/50\n",
            "1/1 [==============================] - 0s 95ms/step - loss: 0.6489 - accuracy: 0.9000 - val_loss: 1.5514 - val_accuracy: 0.0000e+00\n",
            "Epoch 39/50\n",
            "1/1 [==============================] - 0s 111ms/step - loss: 0.6373 - accuracy: 0.9000 - val_loss: 1.5514 - val_accuracy: 0.0000e+00\n",
            "Epoch 40/50\n",
            "1/1 [==============================] - 0s 100ms/step - loss: 0.6313 - accuracy: 0.9000 - val_loss: 1.5514 - val_accuracy: 0.0000e+00\n",
            "Epoch 41/50\n",
            "1/1 [==============================] - 0s 98ms/step - loss: 0.6449 - accuracy: 0.9000 - val_loss: 1.5514 - val_accuracy: 0.0000e+00\n",
            "Epoch 42/50\n",
            "1/1 [==============================] - 0s 102ms/step - loss: 0.6373 - accuracy: 0.9000 - val_loss: 1.5514 - val_accuracy: 0.0000e+00\n",
            "Epoch 43/50\n",
            "1/1 [==============================] - 0s 95ms/step - loss: 0.6381 - accuracy: 0.9000 - val_loss: 1.5514 - val_accuracy: 0.0000e+00\n",
            "Epoch 44/50\n",
            "1/1 [==============================] - 0s 101ms/step - loss: 0.6116 - accuracy: 1.0000 - val_loss: 1.5514 - val_accuracy: 0.0000e+00\n",
            "Epoch 45/50\n",
            "1/1 [==============================] - 0s 105ms/step - loss: 0.6036 - accuracy: 1.0000 - val_loss: 1.5514 - val_accuracy: 0.0000e+00\n",
            "Epoch 46/50\n",
            "1/1 [==============================] - 0s 100ms/step - loss: 0.6165 - accuracy: 0.9000 - val_loss: 1.5514 - val_accuracy: 0.0000e+00\n",
            "Epoch 47/50\n",
            "1/1 [==============================] - 0s 91ms/step - loss: 0.5955 - accuracy: 1.0000 - val_loss: 1.5514 - val_accuracy: 0.0000e+00\n",
            "Epoch 48/50\n",
            "1/1 [==============================] - 0s 96ms/step - loss: 0.6192 - accuracy: 1.0000 - val_loss: 1.5514 - val_accuracy: 0.0000e+00\n",
            "Epoch 49/50\n",
            "1/1 [==============================] - 0s 110ms/step - loss: 0.6378 - accuracy: 0.9000 - val_loss: 1.5514 - val_accuracy: 0.0000e+00\n",
            "Epoch 50/50\n",
            "1/1 [==============================] - 0s 94ms/step - loss: 0.6479 - accuracy: 0.9000 - val_loss: 1.5514 - val_accuracy: 0.0000e+00\n"
          ]
        },
        {
          "output_type": "execute_result",
          "data": {
            "text/plain": [
              "<keras.callbacks.History at 0x7fd53d9ab3d0>"
            ]
          },
          "metadata": {},
          "execution_count": 47
        }
      ]
    },
    {
      "cell_type": "code",
      "source": [
        "# if validation is good (>90%) --> save weights in path below\n",
        "save_to_path = \n",
        "model.save_weights(save_to_path)"
      ],
      "metadata": {
        "id": "Wmpa0eA6U2Ct"
      },
      "execution_count": null,
      "outputs": []
    },
    {
      "cell_type": "code",
      "source": [
        "# RUN THIS IF: model was previously saved and would only like to predict results on new experimental data\n",
        "trn_data_path = \n",
        "exp_data_path =  \n",
        "saved_path_weights = \n",
        "\n",
        "# load experimental data & model\n",
        "exp_datas, max_exp_val, min_exp_val, exp_categories = summarize(exp_data_path)\n",
        "# PITFALL: - ensure max_exp_val and min_exp_val of new batch is less than saved max and min values\n",
        "#          - else, predictions could be inaccurate\n",
        "experimental_data = np.vstack(exp_datas)\n",
        "experimental_data = np.expand_dims(experimental_data, axis = len(experimental_data.shape))\n",
        "choices = listdir_non_hidden(trn_data_path)\n",
        "x,y,z = experimental_data.shape[1], experimental_data.shape[2], experimental_data.shape[3]\n",
        "model = load_model(saved_path_weights, x,y,z)"
      ],
      "metadata": {
        "id": "99Zb4TCIV92R"
      },
      "execution_count": null,
      "outputs": []
    },
    {
      "cell_type": "code",
      "source": [
        "# TO DO: input i value of data you would like to see and j value of method of displaying\n",
        "i = 5\n",
        "j = 2\n",
        "predictions = model.predict(experimental_data)\n",
        "\n",
        "if(j == 0):\n",
        "  predict_top_three(i,predictions,trn_categories)\n",
        "elif(j == 1):\n",
        "  predict_top_three_multiple(i,10,predictions,trn_categories)\n",
        "elif(j == 2):\n",
        "  display_predictions(i,experimental_data,predictions,trn_categories,exp_categories,exp_categories_index)"
      ],
      "metadata": {
        "colab": {
          "base_uri": "https://localhost:8080/",
          "height": 629
        },
        "id": "aLGsgDJYTdiy",
        "outputId": "84910168-4053-46bf-f0c5-9fab87eaae11"
      },
      "execution_count": 48,
      "outputs": [
        {
          "output_type": "stream",
          "name": "stdout",
          "text": [
            "1/1 [==============================] - 0s 125ms/step\n"
          ]
        },
        {
          "output_type": "display_data",
          "data": {
            "text/plain": [
              "<Figure size 1800x720 with 2 Axes>"
            ],
            "image/png": "[encoded data removed]"
          },
          "metadata": {
            "needs_background": "light"
          }
        }
      ]
    }
  ]
}