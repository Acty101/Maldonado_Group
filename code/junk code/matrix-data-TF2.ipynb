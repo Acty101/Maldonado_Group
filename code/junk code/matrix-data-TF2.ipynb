{
 "cells": [
  {
   "cell_type": "code",
   "execution_count": 1,
   "id": "5dec60ee",
   "metadata": {},
   "outputs": [],
   "source": [
    "import pandas as pd\n",
    "import numpy as np\n",
    "import glob\n",
    "import os\n",
    "import tensorflow as tf\n",
    "from tensorflow.keras import layers, models\n",
    "\n",
    "def excel_reader(folder_path): \n",
    "    #takes in a folder path containing data files in .xlsx format and outputs a 3D numpy array of said xlsx files\n",
    "    files = glob.glob(folder_path + \"/*.xlsx\")\n",
    "    df_list = []\n",
    "    for file in files:\n",
    "        df = pd.read_excel(file)\n",
    "        df_list.append(df)\n",
    "    np_array = np.array(list(map(lambda x: x.to_numpy(), df_list)))\n",
    "    np_array = np_array.reshape((len(df_list), len(df.axes[0]), len(df.axes[1]))) #(x,y,z) x is number of elements, y is rows, z is cols\n",
    "    return np_array\n",
    "\n",
    "def listdir_non_hidden(folder_path): # function to only gather non-hidden folders\n",
    "    folders = []\n",
    "    for folder in os.listdir(folder_path):\n",
    "        if not folder.startswith('.'):\n",
    "            folders.append(folder)\n",
    "    return folders\n",
    "    "
   ]
  },
  {
   "cell_type": "code",
   "execution_count": 2,
   "id": "88623af8",
   "metadata": {},
   "outputs": [],
   "source": [
    "path = \"../data/training data/matrix-data/\" # input path to data folder here\n",
    "\n",
    "# gather training datas & labels\n",
    "folders = listdir_non_hidden(path)\n",
    "datas = []\n",
    "for folder in folders:\n",
    "    data = excel_reader(path + folder)\n",
    "    datas.append(data)\n",
    "train_data = np.vstack(datas)\n",
    "train_labels = []\n",
    "for i in range(len(datas)):\n",
    "    for j in range(len(datas[i])):\n",
    "        train_labels.append(i)\n",
    "train_labels = np.asarray(train_labels)\n",
    "\n",
    "# normalize train_data\n",
    "max_val = train_data.max()\n",
    "min_val = train_data.min()\n",
    "train_data = (train_data+abs(min_val))/(max_val+abs(min_val))\n",
    "\n",
    "# add dimensionality along last axis\n",
    "train_data = np.expand_dims(train_data, axis=len(train_data.shape))"
   ]
  },
  {
   "cell_type": "code",
   "execution_count": 3,
   "id": "342be3a5",
   "metadata": {},
   "outputs": [],
   "source": [
    "# input into model\n",
    "x,y,z = train_data.shape[1], train_data.shape[2], train_data.shape[3]\n",
    "model = tf.keras.Sequential([layers.Conv2D(32, (3, 3), activation='relu', input_shape=(x,y,z)),\n",
    "    layers.MaxPooling2D((2, 2)),\n",
    "    layers.Conv2D(64, (3, 3), activation='relu', input_shape=(x,y,z)),\n",
    "    layers.MaxPooling2D((2, 2)),\n",
    "    layers.Conv2D(64, (3, 3), activation='relu', input_shape=(x,y,z)),\n",
    "    layers.MaxPooling2D((2, 2)),\n",
    "    layers.Flatten(input_shape=(x,y)),\n",
    "    layers.Dense(len(datas)*2, activation='relu'),\n",
    "    layers.Dense(len(datas))\n",
    "])\n",
    "\n",
    "\n",
    "model.compile(optimizer='adam',\n",
    "              loss=tf.keras.losses.SparseCategoricalCrossentropy(from_logits=True),\n",
    "              metrics=['accuracy'])\n",
    "\n",
    "#model.fit(train_data, train_labels, epochs=8, validation_split = 0.3)"
   ]
  },
  {
   "cell_type": "code",
   "execution_count": 4,
   "id": "fe6e555f",
   "metadata": {},
   "outputs": [
    {
     "name": "stdout",
     "output_type": "stream",
     "text": [
      "Model: \"sequential\"\n",
      "_________________________________________________________________\n",
      " Layer (type)                Output Shape              Param #   \n",
      "=================================================================\n",
      " conv2d (Conv2D)             (None, 424, 26, 32)       320       \n",
      "                                                                 \n",
      " max_pooling2d (MaxPooling2D  (None, 212, 13, 32)      0         \n",
      " )                                                               \n",
      "                                                                 \n",
      " conv2d_1 (Conv2D)           (None, 210, 11, 64)       18496     \n",
      "                                                                 \n",
      " max_pooling2d_1 (MaxPooling  (None, 105, 5, 64)       0         \n",
      " 2D)                                                             \n",
      "                                                                 \n",
      " conv2d_2 (Conv2D)           (None, 103, 3, 64)        36928     \n",
      "                                                                 \n",
      " max_pooling2d_2 (MaxPooling  (None, 51, 1, 64)        0         \n",
      " 2D)                                                             \n",
      "                                                                 \n",
      " flatten (Flatten)           (None, 3264)              0         \n",
      "                                                                 \n",
      " dense (Dense)               (None, 14)                45710     \n",
      "                                                                 \n",
      " dense_1 (Dense)             (None, 7)                 105       \n",
      "                                                                 \n",
      "=================================================================\n",
      "Total params: 101,559\n",
      "Trainable params: 101,559\n",
      "Non-trainable params: 0\n",
      "_________________________________________________________________\n"
     ]
    }
   ],
   "source": [
    "model.summary()"
   ]
  },
  {
   "cell_type": "code",
   "execution_count": null,
   "id": "606892a8",
   "metadata": {},
   "outputs": [],
   "source": []
  }
 ],
 "metadata": {
  "kernelspec": {
   "display_name": "Python 3 (ipykernel)",
   "language": "python",
   "name": "python3"
  },
  "language_info": {
   "codemirror_mode": {
    "name": "ipython",
    "version": 3
   },
   "file_extension": ".py",
   "mimetype": "text/x-python",
   "name": "python",
   "nbconvert_exporter": "python",
   "pygments_lexer": "ipython3",
   "version": "3.10.6"
  }
 },
 "nbformat": 4,
 "nbformat_minor": 5
}
