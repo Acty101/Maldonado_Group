{
  "cells": [
    {
      "cell_type": "code",
      "execution_count": null,
      "metadata": {
        "colab": {
          "base_uri": "https://localhost:8080/"
        },
        "id": "VkFv6iYwhmFg",
        "outputId": "cb05ec6d-427b-42fa-cd2f-ef5cf7eb83c4"
      },
      "outputs": [
        {
          "output_type": "stream",
          "name": "stdout",
          "text": [
            "Drive already mounted at /content/drive/; to attempt to forcibly remount, call drive.mount(\"/content/drive/\", force_remount=True).\n",
            "/content/drive/My Drive/Maldonado Lab\n"
          ]
        }
      ],
      "source": [
        "import pandas as pd\n",
        "import numpy as np\n",
        "import glob\n",
        "import os\n",
        "import tensorflow as tf\n",
        "from tensorflow.keras import layers, models\n",
        "from google.colab import drive\n",
        "import matplotlib.pyplot as plt\n",
        "import math \n",
        "\n",
        "# REQUIRES: Dataframe has an even number of cols, and column of interest is at every even column\n",
        "# EFFECT: Drops all odd columns in a dataframe\n",
        "def drop_odd_cols(dataframe):\n",
        "  df = dataframe\n",
        "  col_drop_list = []\n",
        "  for i,col in enumerate(df.columns): \n",
        "    if(i % 2 == 0):\n",
        "      col_drop_list.append(col)\n",
        "  df = df.drop(col_drop_list,axis = 1)\n",
        "  return df\n",
        "\n",
        "def drop_first_col(dataframe):\n",
        "  dataframe.pop(dataframe.columns[0])\n",
        "\n",
        "#REQUIRES: Fraction is between 0-1 inclusive, elements in array are np_arrays\n",
        "#EFFECT: Splits an array of np_arrays into 2 parts depending on value of fraction, e.g. fraction = 0.3 means arr1 is 70% & arr2 is 30% of np_array\n",
        "def split_array(fraction, array):\n",
        "  arr1 = [] #longer array \n",
        "  arr2 = []\n",
        "  for i in range(len(array)):\n",
        "    length = len(array[i])\n",
        "    num_split = round(length * fraction)\n",
        "    #array_split returns an array containing 3 elements [[null],[small np],[big np]]\n",
        "    split = np.array_split(array[i], [0,num_split])\n",
        "    arr1.append(split[2])\n",
        "    arr2.append(split[1])\n",
        "  return arr1, arr2\n",
        "\n",
        "# REQUIRES: Folder path must be 1 directories above .xlsx files ({INPUT_PATH} -- > xlsx files)\n",
        "# EFFECT: Reads all xlsx files in a folder and returns a 3D numpy array (batch_size, x,y) with data stacked along new axis (axis = 0)\n",
        "def excel_reader(folder_path, drop_alternate = False, drop_first = False): \n",
        "    files = glob.glob(folder_path + \"/*.xlsx\")\n",
        "    df_list = []\n",
        "    for file in files:\n",
        "        df = pd.read_excel(file)\n",
        "        if drop_alternate:\n",
        "          df = drop_odd_cols(df)\n",
        "        if drop_first:\n",
        "          drop_first_col(df)\n",
        "        df_list.append(df)\n",
        "    np_array = np.array(list(map(lambda x: x.to_numpy(), df_list)))\n",
        "    np_array = np_array.reshape((len(df_list), len(df.axes[0]), len(df.axes[1])))\n",
        "    return np_array\n",
        "\n",
        "# EFFECT: Returns list of non-hidden folders & files present in a directory \n",
        "def listdir_non_hidden(folder_path): \n",
        "    folders = []\n",
        "    for folder in os.listdir(folder_path):\n",
        "        if not folder.startswith('.'):\n",
        "            folders.append(folder)\n",
        "    return folders\n",
        "\n",
        "# REQUIRES: x,y,z be not empty\n",
        "# EEFECT: generate model structure based on input shape of x,y,z\n",
        "def create_model(choices, x,y,z):\n",
        "  model = tf.keras.Sequential([\n",
        "      layers.Conv2D(32, (3, 3), padding = \"SAME\", activation='relu', input_shape=(x,y,z)),\n",
        "      layers.AveragePooling2D((2, 2)),\n",
        "      layers.Conv2D(64, (3, 3), padding = \"SAME\", activation='relu'),\n",
        "      layers.AveragePooling2D((2, 2)),\n",
        "      layers.Conv2D(64, (3, 3), padding = \"SAME\", activation='relu'),\n",
        "      layers.AveragePooling2D((2, 2)),\n",
        "      layers.Flatten(),\n",
        "      layers.Dense(100, activation = 'relu'),\n",
        "      layers.Dropout(0.03),\n",
        "      layers.Dense(100, activation = 'relu'),\n",
        "      layers.Dense(50, activation = 'relu'),\n",
        "      layers.Dense(len(choices)),\n",
        "      layers.Softmax()])\n",
        "\n",
        "  model.compile(optimizer='adam',\n",
        "                loss=tf.keras.losses.SparseCategoricalCrossentropy(from_logits=True),\n",
        "                metrics=['accuracy'])\n",
        "      \n",
        "  return model\n",
        "\n",
        "\n",
        "# REQUIRES: Model weights in folder must match current model architecture\n",
        "# EFFECT: Load a model from its saved weights\n",
        "def load_model(path,x,y,z,choices):\n",
        "  model = create_model(choices,x,y,z)\n",
        "  model.load_weights(path)\n",
        "  return model\n",
        "\n",
        "# REQUIRES: - Maximum and minimum values are more than and less than 0 respectively \n",
        "#           - Folder path must be 2 directories above .xlsx files ({INPUT_PATH} -- > categories -- > xlsx files)\n",
        "#           - fraction must be 0-1 inclusive\n",
        "# EFFECT: Summarizes data of xslx files in a folder by returning four items: \n",
        "#         1. (1-fraction) of array whose elements are numpy datas corresponding to categories (e.g. [np1,np2,np3] )\n",
        "#         2. remaining fraction amount of array in (3)\n",
        "#         3. maximum value\n",
        "#         4. minimum value\n",
        "#         5. folder categories\n",
        "def summarize(path, drop_alternate = False, drop_first = False):\n",
        "  folders = listdir_non_hidden(path)\n",
        "  max_val = 0\n",
        "  min_val = 0\n",
        "  datas = []\n",
        "  for folder in folders:\n",
        "    data = excel_reader(path + folder, drop_alternate = drop_alternate, drop_first = drop_first)\n",
        "    current_max = data.max()\n",
        "    current_min = data.min()\n",
        "    if(max_val < current_max):\n",
        "      max_val = current_max\n",
        "    if(min_val > current_min):\n",
        "      min_val = current_min\n",
        "    datas.append(data)\n",
        "  return datas, max_val, min_val, folders\n",
        "\n",
        "def normalize(data,min_val,max_val):\n",
        "  return((data - min_val) / (max_val - min_val))\n",
        "\n",
        "# REQUIRES: Index >= 0, predictions is a 2D array and >= 3 along axis = 0, and choices reflect number of output nodes for model & are accurate in name\n",
        "# EFFECT: Prints top 3 predictions for a given data with their respective probabilities\n",
        "def predict_top_three(index, predictions, choices):\n",
        "  prediction = []\n",
        "  for i in range(len(predictions[index])):\n",
        "    prediction.append(predictions[index][i])\n",
        "  prediction = np.asarray(prediction)\n",
        "  ranks = []\n",
        "  for i in range(3):\n",
        "    current_index = np.argmax(prediction)\n",
        "    ranks.append(current_index)\n",
        "    prediction[current_index] = 0\n",
        "  print(\"The top three predictions are:\")\n",
        "  print(\"1.\", choices[ranks[0]], \"with probability of\", predictions[index][ranks[0]])\n",
        "  print(\"2.\", choices[ranks[1]], \"with probability of\", predictions[index][ranks[1]])\n",
        "  print(\"3.\", choices[ranks[2]], \"with probability of\", predictions[index][ranks[2]])\n",
        "  print()\n",
        "  return\n",
        "\n",
        "# REQUIRES: start_index, num_terms > 0, predictions is a 2D array and >= 3 along axis = 0, and choices reflect number of output nodes for model\n",
        "# EFFECT: Prints top prediction for a given range (start-end)\n",
        "def predict_top_three_multiple(start_index,num_terms, predictions,choices):\n",
        "  range_predictions = predictions[start_index:start_index + num_terms]\n",
        "  for i in range(num_terms):\n",
        "    print(\"Data index (\", i + start_index, \")\")\n",
        "    predict_top_three(i,range_predictions,choices)\n",
        "  return\n",
        "\n",
        "# REQUIRES: Index >= 0, data is a 4D array, predictions is a 2D array, choices reflect number of nodes of output, category is 1D array containing names of experimental categories, data is normalized\n",
        "# EFFECT: Display a summary of a specific experimental data using a bar graph\n",
        "def display_predictions(index, data, predictions, choices, category, category_index, min_val, max_val): \n",
        "    fig, ax = plt.subplots(1,2, gridspec_kw={'width_ratios': [1, 3]}, figsize=(25,10))\n",
        "    # first subplot\n",
        "    im = ax[0].imshow(data[index,:,:,0], aspect = 'auto', cmap = 'bwr', vmin = 0, vmax = 1)\n",
        "    ax[0].set_xticks([])\n",
        "    ax[0].set_yticks([])\n",
        "    ax[0].set_title(f\"Data({index}) from category: {category[category_index[index]]}\", size = 20)\n",
        "    range_of_vals = np.round_(np.linspace(min_val, max_val, 6),6)\n",
        "    normalized = np.linspace(0,1,6)\n",
        "    cbar = plt.colorbar(im, ax=ax[0], ticks = normalized)\n",
        "    cbar.ax.set_yticklabels(range_of_vals)\n",
        "    for i in range(7):\n",
        "      print(choices[i])\n",
        "\n",
        "\n",
        "    # second subplot \n",
        "    thisplot = ax[1].bar(range(len(choices)), predictions[index], color=\"#FFCCCB\")\n",
        "    ax[1].set_xticks(range(len(choices)))\n",
        "    ax[1].set_yticks([])\n",
        "    ax[1].set_ylim([0,1])\n",
        "    predicted_label = np.argmax(predictions[index])\n",
        "    thisplot[predicted_label].set_color('#90EE90')\n",
        "    ax[1].set_title(f\"Predicted Category: {choices[predicted_label]} ({predicted_label} on graph)\", size = 20)\n",
        "    # to label each bar with percentage on top   \n",
        "    for i, p in enumerate(predictions[index]):\n",
        "        ax[1].text(i - 0.05, p + 0.01, str(round(p*100,2)) + '%', color='blue', size = 8)\n",
        "\n",
        "drive.mount('/content/drive/')\n",
        "%cd \"/content/drive/My Drive/Maldonado Lab/\"\n"
      ]
    },
    {
      "cell_type": "code",
      "execution_count": null,
      "metadata": {
        "colab": {
          "base_uri": "https://localhost:8080/",
          "height": 381
        },
        "id": "RyIB5y1nRkPU",
        "outputId": "2d66743b-46af-4028-f180-c455d526fbf9"
      },
      "outputs": [
        {
          "output_type": "error",
          "ename": "KeyboardInterrupt",
          "evalue": "ignored",
          "traceback": [
            "\u001b[0;31m---------------------------------------------------------------------------\u001b[0m",
            "\u001b[0;31mKeyboardInterrupt\u001b[0m                         Traceback (most recent call last)",
            "\u001b[0;32m<ipython-input-110-97ae3f7e6a7a>\u001b[0m in \u001b[0;36m<module>\u001b[0;34m\u001b[0m\n\u001b[1;32m      6\u001b[0m \u001b[0;34m\u001b[0m\u001b[0m\n\u001b[1;32m      7\u001b[0m \u001b[0;31m# gather training datas & make labels\u001b[0m\u001b[0;34m\u001b[0m\u001b[0;34m\u001b[0m\u001b[0;34m\u001b[0m\u001b[0m\n\u001b[0;32m----> 8\u001b[0;31m \u001b[0mtrn_datas\u001b[0m\u001b[0;34m,\u001b[0m \u001b[0mmax_trn_val\u001b[0m\u001b[0;34m,\u001b[0m \u001b[0mmin_trn_val\u001b[0m\u001b[0;34m,\u001b[0m \u001b[0mtrn_categories\u001b[0m \u001b[0;34m=\u001b[0m \u001b[0msummarize\u001b[0m\u001b[0;34m(\u001b[0m\u001b[0mtrn_data_path\u001b[0m\u001b[0;34m,\u001b[0m \u001b[0mdrop_alternate\u001b[0m \u001b[0;34m=\u001b[0m \u001b[0;32mTrue\u001b[0m\u001b[0;34m,\u001b[0m \u001b[0mdrop_first\u001b[0m \u001b[0;34m=\u001b[0m \u001b[0;32mFalse\u001b[0m\u001b[0;34m)\u001b[0m\u001b[0;34m\u001b[0m\u001b[0;34m\u001b[0m\u001b[0m\n\u001b[0m\u001b[1;32m      9\u001b[0m \u001b[0mtrn_labels\u001b[0m \u001b[0;34m=\u001b[0m \u001b[0;34m[\u001b[0m\u001b[0;34m]\u001b[0m\u001b[0;34m\u001b[0m\u001b[0;34m\u001b[0m\u001b[0m\n\u001b[1;32m     10\u001b[0m \u001b[0;32mfor\u001b[0m \u001b[0mi\u001b[0m \u001b[0;32min\u001b[0m \u001b[0mrange\u001b[0m\u001b[0;34m(\u001b[0m\u001b[0mlen\u001b[0m\u001b[0;34m(\u001b[0m\u001b[0mtrn_datas\u001b[0m\u001b[0;34m)\u001b[0m\u001b[0;34m)\u001b[0m\u001b[0;34m:\u001b[0m\u001b[0;34m\u001b[0m\u001b[0;34m\u001b[0m\u001b[0m\n",
            "\u001b[0;32m<ipython-input-109-4becb0fed4ef>\u001b[0m in \u001b[0;36msummarize\u001b[0;34m(path, drop_alternate, drop_first)\u001b[0m\n\u001b[1;32m    108\u001b[0m   \u001b[0mdatas\u001b[0m \u001b[0;34m=\u001b[0m \u001b[0;34m[\u001b[0m\u001b[0;34m]\u001b[0m\u001b[0;34m\u001b[0m\u001b[0;34m\u001b[0m\u001b[0m\n\u001b[1;32m    109\u001b[0m   \u001b[0;32mfor\u001b[0m \u001b[0mfolder\u001b[0m \u001b[0;32min\u001b[0m \u001b[0mfolders\u001b[0m\u001b[0;34m:\u001b[0m\u001b[0;34m\u001b[0m\u001b[0;34m\u001b[0m\u001b[0m\n\u001b[0;32m--> 110\u001b[0;31m     \u001b[0mdata\u001b[0m \u001b[0;34m=\u001b[0m \u001b[0mexcel_reader\u001b[0m\u001b[0;34m(\u001b[0m\u001b[0mpath\u001b[0m \u001b[0;34m+\u001b[0m \u001b[0mfolder\u001b[0m\u001b[0;34m,\u001b[0m \u001b[0mdrop_alternate\u001b[0m \u001b[0;34m=\u001b[0m \u001b[0mdrop_alternate\u001b[0m\u001b[0;34m,\u001b[0m \u001b[0mdrop_first\u001b[0m \u001b[0;34m=\u001b[0m \u001b[0mdrop_first\u001b[0m\u001b[0;34m)\u001b[0m\u001b[0;34m\u001b[0m\u001b[0;34m\u001b[0m\u001b[0m\n\u001b[0m\u001b[1;32m    111\u001b[0m     \u001b[0mcurrent_max\u001b[0m \u001b[0;34m=\u001b[0m \u001b[0mdata\u001b[0m\u001b[0;34m.\u001b[0m\u001b[0mmax\u001b[0m\u001b[0;34m(\u001b[0m\u001b[0;34m)\u001b[0m\u001b[0;34m\u001b[0m\u001b[0;34m\u001b[0m\u001b[0m\n\u001b[1;32m    112\u001b[0m     \u001b[0mcurrent_min\u001b[0m \u001b[0;34m=\u001b[0m \u001b[0mdata\u001b[0m\u001b[0;34m.\u001b[0m\u001b[0mmin\u001b[0m\u001b[0;34m(\u001b[0m\u001b[0;34m)\u001b[0m\u001b[0;34m\u001b[0m\u001b[0;34m\u001b[0m\u001b[0m\n",
            "\u001b[0;32m<ipython-input-109-4becb0fed4ef>\u001b[0m in \u001b[0;36mexcel_reader\u001b[0;34m(folder_path, drop_alternate, drop_first)\u001b[0m\n\u001b[1;32m     43\u001b[0m     \u001b[0mdf_list\u001b[0m \u001b[0;34m=\u001b[0m \u001b[0;34m[\u001b[0m\u001b[0;34m]\u001b[0m\u001b[0;34m\u001b[0m\u001b[0;34m\u001b[0m\u001b[0m\n\u001b[1;32m     44\u001b[0m     \u001b[0;32mfor\u001b[0m \u001b[0mfile\u001b[0m \u001b[0;32min\u001b[0m \u001b[0mfiles\u001b[0m\u001b[0;34m:\u001b[0m\u001b[0;34m\u001b[0m\u001b[0;34m\u001b[0m\u001b[0m\n\u001b[0;32m---> 45\u001b[0;31m         \u001b[0mdf\u001b[0m \u001b[0;34m=\u001b[0m \u001b[0mpd\u001b[0m\u001b[0;34m.\u001b[0m\u001b[0mread_excel\u001b[0m\u001b[0;34m(\u001b[0m\u001b[0mfile\u001b[0m\u001b[0;34m)\u001b[0m\u001b[0;34m\u001b[0m\u001b[0;34m\u001b[0m\u001b[0m\n\u001b[0m\u001b[1;32m     46\u001b[0m         \u001b[0;32mif\u001b[0m \u001b[0mdrop_alternate\u001b[0m\u001b[0;34m:\u001b[0m\u001b[0;34m\u001b[0m\u001b[0;34m\u001b[0m\u001b[0m\n\u001b[1;32m     47\u001b[0m           \u001b[0mdf\u001b[0m \u001b[0;34m=\u001b[0m \u001b[0mdrop_odd_cols\u001b[0m\u001b[0;34m(\u001b[0m\u001b[0mdf\u001b[0m\u001b[0;34m)\u001b[0m\u001b[0;34m\u001b[0m\u001b[0;34m\u001b[0m\u001b[0m\n",
            "\u001b[0;32m/usr/local/lib/python3.8/dist-packages/pandas/util/_decorators.py\u001b[0m in \u001b[0;36mwrapper\u001b[0;34m(*args, **kwargs)\u001b[0m\n\u001b[1;32m    309\u001b[0m                     \u001b[0mstacklevel\u001b[0m\u001b[0;34m=\u001b[0m\u001b[0mstacklevel\u001b[0m\u001b[0;34m,\u001b[0m\u001b[0;34m\u001b[0m\u001b[0;34m\u001b[0m\u001b[0m\n\u001b[1;32m    310\u001b[0m                 )\n\u001b[0;32m--> 311\u001b[0;31m             \u001b[0;32mreturn\u001b[0m \u001b[0mfunc\u001b[0m\u001b[0;34m(\u001b[0m\u001b[0;34m*\u001b[0m\u001b[0margs\u001b[0m\u001b[0;34m,\u001b[0m \u001b[0;34m**\u001b[0m\u001b[0mkwargs\u001b[0m\u001b[0;34m)\u001b[0m\u001b[0;34m\u001b[0m\u001b[0;34m\u001b[0m\u001b[0m\n\u001b[0m\u001b[1;32m    312\u001b[0m \u001b[0;34m\u001b[0m\u001b[0m\n\u001b[1;32m    313\u001b[0m         \u001b[0;32mreturn\u001b[0m \u001b[0mwrapper\u001b[0m\u001b[0;34m\u001b[0m\u001b[0;34m\u001b[0m\u001b[0m\n",
            "\u001b[0;32m/usr/local/lib/python3.8/dist-packages/pandas/io/excel/_base.py\u001b[0m in \u001b[0;36mread_excel\u001b[0;34m(io, sheet_name, header, names, index_col, usecols, squeeze, dtype, engine, converters, true_values, false_values, skiprows, nrows, na_values, keep_default_na, na_filter, verbose, parse_dates, date_parser, thousands, comment, skipfooter, convert_float, mangle_dupe_cols, storage_options)\u001b[0m\n\u001b[1;32m    370\u001b[0m \u001b[0;34m\u001b[0m\u001b[0m\n\u001b[1;32m    371\u001b[0m     \u001b[0;32mtry\u001b[0m\u001b[0;34m:\u001b[0m\u001b[0;34m\u001b[0m\u001b[0;34m\u001b[0m\u001b[0m\n\u001b[0;32m--> 372\u001b[0;31m         data = io.parse(\n\u001b[0m\u001b[1;32m    373\u001b[0m             \u001b[0msheet_name\u001b[0m\u001b[0;34m=\u001b[0m\u001b[0msheet_name\u001b[0m\u001b[0;34m,\u001b[0m\u001b[0;34m\u001b[0m\u001b[0;34m\u001b[0m\u001b[0m\n\u001b[1;32m    374\u001b[0m             \u001b[0mheader\u001b[0m\u001b[0;34m=\u001b[0m\u001b[0mheader\u001b[0m\u001b[0;34m,\u001b[0m\u001b[0;34m\u001b[0m\u001b[0;34m\u001b[0m\u001b[0m\n",
            "\u001b[0;32m/usr/local/lib/python3.8/dist-packages/pandas/io/excel/_base.py\u001b[0m in \u001b[0;36mparse\u001b[0;34m(self, sheet_name, header, names, index_col, usecols, squeeze, converters, true_values, false_values, skiprows, nrows, na_values, parse_dates, date_parser, thousands, comment, skipfooter, convert_float, mangle_dupe_cols, **kwds)\u001b[0m\n\u001b[1;32m   1270\u001b[0m             \u001b[0mDataFrame\u001b[0m \u001b[0;32mfrom\u001b[0m \u001b[0mthe\u001b[0m \u001b[0mpassed\u001b[0m \u001b[0;32min\u001b[0m \u001b[0mExcel\u001b[0m \u001b[0mfile\u001b[0m\u001b[0;34m.\u001b[0m\u001b[0;34m\u001b[0m\u001b[0;34m\u001b[0m\u001b[0m\n\u001b[1;32m   1271\u001b[0m         \"\"\"\n\u001b[0;32m-> 1272\u001b[0;31m         return self._reader.parse(\n\u001b[0m\u001b[1;32m   1273\u001b[0m             \u001b[0msheet_name\u001b[0m\u001b[0;34m=\u001b[0m\u001b[0msheet_name\u001b[0m\u001b[0;34m,\u001b[0m\u001b[0;34m\u001b[0m\u001b[0;34m\u001b[0m\u001b[0m\n\u001b[1;32m   1274\u001b[0m             \u001b[0mheader\u001b[0m\u001b[0;34m=\u001b[0m\u001b[0mheader\u001b[0m\u001b[0;34m,\u001b[0m\u001b[0;34m\u001b[0m\u001b[0;34m\u001b[0m\u001b[0m\n",
            "\u001b[0;32m/usr/local/lib/python3.8/dist-packages/pandas/io/excel/_base.py\u001b[0m in \u001b[0;36mparse\u001b[0;34m(self, sheet_name, header, names, index_col, usecols, squeeze, dtype, true_values, false_values, skiprows, nrows, na_values, verbose, parse_dates, date_parser, thousands, comment, skipfooter, convert_float, mangle_dupe_cols, **kwds)\u001b[0m\n\u001b[1;32m    537\u001b[0m                 \u001b[0msheet\u001b[0m \u001b[0;34m=\u001b[0m \u001b[0mself\u001b[0m\u001b[0;34m.\u001b[0m\u001b[0mget_sheet_by_index\u001b[0m\u001b[0;34m(\u001b[0m\u001b[0masheetname\u001b[0m\u001b[0;34m)\u001b[0m\u001b[0;34m\u001b[0m\u001b[0;34m\u001b[0m\u001b[0m\n\u001b[1;32m    538\u001b[0m \u001b[0;34m\u001b[0m\u001b[0m\n\u001b[0;32m--> 539\u001b[0;31m             \u001b[0mdata\u001b[0m \u001b[0;34m=\u001b[0m \u001b[0mself\u001b[0m\u001b[0;34m.\u001b[0m\u001b[0mget_sheet_data\u001b[0m\u001b[0;34m(\u001b[0m\u001b[0msheet\u001b[0m\u001b[0;34m,\u001b[0m \u001b[0mconvert_float\u001b[0m\u001b[0;34m)\u001b[0m\u001b[0;34m\u001b[0m\u001b[0;34m\u001b[0m\u001b[0m\n\u001b[0m\u001b[1;32m    540\u001b[0m             \u001b[0;32mif\u001b[0m \u001b[0mhasattr\u001b[0m\u001b[0;34m(\u001b[0m\u001b[0msheet\u001b[0m\u001b[0;34m,\u001b[0m \u001b[0;34m\"close\"\u001b[0m\u001b[0;34m)\u001b[0m\u001b[0;34m:\u001b[0m\u001b[0;34m\u001b[0m\u001b[0;34m\u001b[0m\u001b[0m\n\u001b[1;32m    541\u001b[0m                 \u001b[0;31m# pyxlsb opens two TemporaryFiles\u001b[0m\u001b[0;34m\u001b[0m\u001b[0;34m\u001b[0m\u001b[0;34m\u001b[0m\u001b[0m\n",
            "\u001b[0;32m/usr/local/lib/python3.8/dist-packages/pandas/io/excel/_openpyxl.py\u001b[0m in \u001b[0;36mget_sheet_data\u001b[0;34m(self, sheet, convert_float)\u001b[0m\n\u001b[1;32m    571\u001b[0m         \u001b[0mlast_row_with_data\u001b[0m \u001b[0;34m=\u001b[0m \u001b[0;34m-\u001b[0m\u001b[0;36m1\u001b[0m\u001b[0;34m\u001b[0m\u001b[0;34m\u001b[0m\u001b[0m\n\u001b[1;32m    572\u001b[0m         \u001b[0;32mfor\u001b[0m \u001b[0mrow_number\u001b[0m\u001b[0;34m,\u001b[0m \u001b[0mrow\u001b[0m \u001b[0;32min\u001b[0m \u001b[0menumerate\u001b[0m\u001b[0;34m(\u001b[0m\u001b[0msheet\u001b[0m\u001b[0;34m.\u001b[0m\u001b[0mrows\u001b[0m\u001b[0;34m)\u001b[0m\u001b[0;34m:\u001b[0m\u001b[0;34m\u001b[0m\u001b[0;34m\u001b[0m\u001b[0m\n\u001b[0;32m--> 573\u001b[0;31m             \u001b[0mconverted_row\u001b[0m \u001b[0;34m=\u001b[0m \u001b[0;34m[\u001b[0m\u001b[0mself\u001b[0m\u001b[0;34m.\u001b[0m\u001b[0m_convert_cell\u001b[0m\u001b[0;34m(\u001b[0m\u001b[0mcell\u001b[0m\u001b[0;34m,\u001b[0m \u001b[0mconvert_float\u001b[0m\u001b[0;34m)\u001b[0m \u001b[0;32mfor\u001b[0m \u001b[0mcell\u001b[0m \u001b[0;32min\u001b[0m \u001b[0mrow\u001b[0m\u001b[0;34m]\u001b[0m\u001b[0;34m\u001b[0m\u001b[0;34m\u001b[0m\u001b[0m\n\u001b[0m\u001b[1;32m    574\u001b[0m             \u001b[0;32mwhile\u001b[0m \u001b[0mconverted_row\u001b[0m \u001b[0;32mand\u001b[0m \u001b[0mconverted_row\u001b[0m\u001b[0;34m[\u001b[0m\u001b[0;34m-\u001b[0m\u001b[0;36m1\u001b[0m\u001b[0;34m]\u001b[0m \u001b[0;34m==\u001b[0m \u001b[0;34m\"\"\u001b[0m\u001b[0;34m:\u001b[0m\u001b[0;34m\u001b[0m\u001b[0;34m\u001b[0m\u001b[0m\n\u001b[1;32m    575\u001b[0m                 \u001b[0;31m# trim trailing empty elements\u001b[0m\u001b[0;34m\u001b[0m\u001b[0;34m\u001b[0m\u001b[0;34m\u001b[0m\u001b[0m\n",
            "\u001b[0;32m/usr/local/lib/python3.8/dist-packages/pandas/io/excel/_openpyxl.py\u001b[0m in \u001b[0;36m<listcomp>\u001b[0;34m(.0)\u001b[0m\n\u001b[1;32m    571\u001b[0m         \u001b[0mlast_row_with_data\u001b[0m \u001b[0;34m=\u001b[0m \u001b[0;34m-\u001b[0m\u001b[0;36m1\u001b[0m\u001b[0;34m\u001b[0m\u001b[0;34m\u001b[0m\u001b[0m\n\u001b[1;32m    572\u001b[0m         \u001b[0;32mfor\u001b[0m \u001b[0mrow_number\u001b[0m\u001b[0;34m,\u001b[0m \u001b[0mrow\u001b[0m \u001b[0;32min\u001b[0m \u001b[0menumerate\u001b[0m\u001b[0;34m(\u001b[0m\u001b[0msheet\u001b[0m\u001b[0;34m.\u001b[0m\u001b[0mrows\u001b[0m\u001b[0;34m)\u001b[0m\u001b[0;34m:\u001b[0m\u001b[0;34m\u001b[0m\u001b[0;34m\u001b[0m\u001b[0m\n\u001b[0;32m--> 573\u001b[0;31m             \u001b[0mconverted_row\u001b[0m \u001b[0;34m=\u001b[0m \u001b[0;34m[\u001b[0m\u001b[0mself\u001b[0m\u001b[0;34m.\u001b[0m\u001b[0m_convert_cell\u001b[0m\u001b[0;34m(\u001b[0m\u001b[0mcell\u001b[0m\u001b[0;34m,\u001b[0m \u001b[0mconvert_float\u001b[0m\u001b[0;34m)\u001b[0m \u001b[0;32mfor\u001b[0m \u001b[0mcell\u001b[0m \u001b[0;32min\u001b[0m \u001b[0mrow\u001b[0m\u001b[0;34m]\u001b[0m\u001b[0;34m\u001b[0m\u001b[0;34m\u001b[0m\u001b[0m\n\u001b[0m\u001b[1;32m    574\u001b[0m             \u001b[0;32mwhile\u001b[0m \u001b[0mconverted_row\u001b[0m \u001b[0;32mand\u001b[0m \u001b[0mconverted_row\u001b[0m\u001b[0;34m[\u001b[0m\u001b[0;34m-\u001b[0m\u001b[0;36m1\u001b[0m\u001b[0;34m]\u001b[0m \u001b[0;34m==\u001b[0m \u001b[0;34m\"\"\u001b[0m\u001b[0;34m:\u001b[0m\u001b[0;34m\u001b[0m\u001b[0;34m\u001b[0m\u001b[0m\n\u001b[1;32m    575\u001b[0m                 \u001b[0;31m# trim trailing empty elements\u001b[0m\u001b[0;34m\u001b[0m\u001b[0;34m\u001b[0m\u001b[0;34m\u001b[0m\u001b[0m\n",
            "\u001b[0;32m/usr/local/lib/python3.8/dist-packages/pandas/io/excel/_openpyxl.py\u001b[0m in \u001b[0;36m_convert_cell\u001b[0;34m(self, cell, convert_float)\u001b[0m\n\u001b[1;32m    549\u001b[0m     \u001b[0;32mdef\u001b[0m \u001b[0m_convert_cell\u001b[0m\u001b[0;34m(\u001b[0m\u001b[0mself\u001b[0m\u001b[0;34m,\u001b[0m \u001b[0mcell\u001b[0m\u001b[0;34m,\u001b[0m \u001b[0mconvert_float\u001b[0m\u001b[0;34m:\u001b[0m \u001b[0mbool\u001b[0m\u001b[0;34m)\u001b[0m \u001b[0;34m->\u001b[0m \u001b[0mScalar\u001b[0m\u001b[0;34m:\u001b[0m\u001b[0;34m\u001b[0m\u001b[0;34m\u001b[0m\u001b[0m\n\u001b[1;32m    550\u001b[0m \u001b[0;34m\u001b[0m\u001b[0m\n\u001b[0;32m--> 551\u001b[0;31m         from openpyxl.cell.cell import (\n\u001b[0m\u001b[1;32m    552\u001b[0m             \u001b[0mTYPE_ERROR\u001b[0m\u001b[0;34m,\u001b[0m\u001b[0;34m\u001b[0m\u001b[0;34m\u001b[0m\u001b[0m\n\u001b[1;32m    553\u001b[0m             \u001b[0mTYPE_NUMERIC\u001b[0m\u001b[0;34m,\u001b[0m\u001b[0;34m\u001b[0m\u001b[0;34m\u001b[0m\u001b[0m\n",
            "\u001b[0;31mKeyboardInterrupt\u001b[0m: "
          ]
        }
      ],
      "source": [
        "# paths\n",
        "trn_data_path =  \"matrix-data/\"\n",
        "exp_data_path =  \"test/\"\n",
        "# fraction for validation split\n",
        "split_percent = 0.3\n",
        "\n",
        "# gather training datas & make labels\n",
        "trn_datas, max_trn_val, min_trn_val, trn_categories = summarize(trn_data_path, drop_alternate = True, drop_first = False)\n",
        "trn_labels = []\n",
        "for i in range(len(trn_datas)):\n",
        "  temp = []\n",
        "  for j in range(len(trn_datas[i])):\n",
        "    temp.append(i)\n",
        "  trn_labels.append(temp)\n",
        "\n",
        "# split training data and labels and join them along vertical and horizontal axis respectively\n",
        "train_data, validation_data = split_array(split_percent,trn_datas)\n",
        "train_labels, validation_labels = split_array(split_percent,trn_labels)\n",
        "\n",
        "train_data = np.vstack(train_data)\n",
        "validation_data = np.vstack(validation_data)\n",
        "\n",
        "train_labels = np.hstack(train_labels)\n",
        "validation_labels = np.hstack(validation_labels)\n",
        "\n",
        "# gather experimental data & make categories\n",
        "exp_datas, max_exp_val, min_exp_val, exp_categories = summarize(exp_data_path, drop_alternate = True, drop_first = False)\n",
        "experimental_data = np.vstack(exp_datas)\n",
        "exp_categories_index = []\n",
        "for i in range(len(exp_datas)):\n",
        "  for j in range(len(exp_datas[i])):\n",
        "    exp_categories_index.append(i)\n",
        "exp_categories_index = np.asarray(exp_categories_index)\n",
        "\n",
        "# normalize data (shift range from negative-positive values to 0-1 values)\n",
        "max_val = max(max_trn_val,max_exp_val)\n",
        "min_val = min(min_trn_val,min_exp_val)\n",
        "train_data = normalize(train_data,min_val,max_val)\n",
        "validation_data = normalize(validation_data,min_val,max_val)\n",
        "experimental_data = normalize(experimental_data,min_val,max_val)\n",
        "\n",
        "# write max and min value to txt file for future data checking/normalization\n",
        "os.remove('max-min.txt')\n",
        "np.savetxt('max-min.txt',[max_val,min_val])\n",
        "\n",
        "# add dimensionality along last axis (3D --> 4D) since CNN requires 4D input\n",
        "train_data = np.expand_dims(train_data, axis = len(train_data.shape))\n",
        "validation_data = np.expand_dims(validation_data, axis = len(validation_data.shape))\n",
        "experimental_data = np.expand_dims(experimental_data, axis = len(experimental_data.shape))\n",
        "\n",
        "print(\"Dimensions of training data & labels:\",train_data.shape,\"&\",train_labels.shape)\n",
        "print(\"Dimensions of validation data & labels:\",validation_data.shape,\"&\",validation_labels.shape)\n",
        "print(\"Dimensions of experimental data:\",experimental_data.shape)\n",
        "\n",
        "# 13m 0s to complete, change in ram: 1.01 - 1.85 Gb"
      ]
    },
    {
      "cell_type": "code",
      "execution_count": null,
      "metadata": {
        "colab": {
          "base_uri": "https://localhost:8080/"
        },
        "id": "JFELY9-qRnxe",
        "outputId": "20858532-84ec-402d-aba5-e4fe5d162de8"
      },
      "outputs": [
        {
          "output_type": "stream",
          "name": "stdout",
          "text": [
            "Model input dimensions: NONE, 426 , 14 , 1\n",
            "Model: \"sequential_9\"\n",
            "_________________________________________________________________\n",
            " Layer (type)                Output Shape              Param #   \n",
            "=================================================================\n",
            " conv2d_27 (Conv2D)          (None, 426, 14, 32)       320       \n",
            "                                                                 \n",
            " average_pooling2d_27 (Avera  (None, 213, 7, 32)       0         \n",
            " gePooling2D)                                                    \n",
            "                                                                 \n",
            " conv2d_28 (Conv2D)          (None, 213, 7, 64)        18496     \n",
            "                                                                 \n",
            " average_pooling2d_28 (Avera  (None, 106, 3, 64)       0         \n",
            " gePooling2D)                                                    \n",
            "                                                                 \n",
            " conv2d_29 (Conv2D)          (None, 106, 3, 64)        36928     \n",
            "                                                                 \n",
            " average_pooling2d_29 (Avera  (None, 53, 1, 64)        0         \n",
            " gePooling2D)                                                    \n",
            "                                                                 \n",
            " flatten_9 (Flatten)         (None, 3392)              0         \n",
            "                                                                 \n",
            " dense_36 (Dense)            (None, 100)               339300    \n",
            "                                                                 \n",
            " dropout_9 (Dropout)         (None, 100)               0         \n",
            "                                                                 \n",
            " dense_37 (Dense)            (None, 100)               10100     \n",
            "                                                                 \n",
            " dense_38 (Dense)            (None, 50)                5050      \n",
            "                                                                 \n",
            " dense_39 (Dense)            (None, 7)                 357       \n",
            "                                                                 \n",
            " softmax_9 (Softmax)         (None, 7)                 0         \n",
            "                                                                 \n",
            "=================================================================\n",
            "Total params: 410,551\n",
            "Trainable params: 410,551\n",
            "Non-trainable params: 0\n",
            "_________________________________________________________________\n"
          ]
        }
      ],
      "source": [
        "# make instance of model\n",
        "x,y,z = train_data.shape[1], train_data.shape[2], train_data.shape[3]\n",
        "print(\"Model input dimensions: NONE,\", x, ',', y, ',', z)\n",
        "model = create_model(trn_categories,x,y,z)\n",
        "model.summary()"
      ]
    },
    {
      "cell_type": "code",
      "execution_count": null,
      "metadata": {
        "colab": {
          "base_uri": "https://localhost:8080/"
        },
        "id": "Y56WoMq-Tb3p",
        "outputId": "590759eb-d9a5-4c7b-b92b-a81b157024e9"
      },
      "outputs": [
        {
          "output_type": "stream",
          "name": "stdout",
          "text": [
            "Epoch 1/30\n",
            "77/77 [==============================] - 19s 238ms/step - loss: 1.9002 - accuracy: 0.2378 - val_loss: 1.7408 - val_accuracy: 0.5350\n",
            "Epoch 2/30\n",
            "77/77 [==============================] - 16s 214ms/step - loss: 1.6959 - accuracy: 0.4671 - val_loss: 1.6255 - val_accuracy: 0.5445\n",
            "Epoch 3/30\n",
            "77/77 [==============================] - 18s 230ms/step - loss: 1.6312 - accuracy: 0.5361 - val_loss: 1.5564 - val_accuracy: 0.6364\n",
            "Epoch 4/30\n",
            "77/77 [==============================] - 16s 211ms/step - loss: 1.5437 - accuracy: 0.6254 - val_loss: 1.5342 - val_accuracy: 0.6250\n",
            "Epoch 5/30\n",
            "77/77 [==============================] - 16s 209ms/step - loss: 1.5342 - accuracy: 0.6287 - val_loss: 1.4333 - val_accuracy: 0.7396\n",
            "Epoch 6/30\n",
            "77/77 [==============================] - 16s 212ms/step - loss: 1.5031 - accuracy: 0.6668 - val_loss: 1.4287 - val_accuracy: 0.7396\n",
            "Epoch 7/30\n",
            "77/77 [==============================] - 17s 215ms/step - loss: 1.4775 - accuracy: 0.6871 - val_loss: 1.4294 - val_accuracy: 0.7453\n",
            "Epoch 8/30\n",
            "77/77 [==============================] - 18s 230ms/step - loss: 1.4438 - accuracy: 0.7261 - val_loss: 1.4079 - val_accuracy: 0.7585\n",
            "Epoch 9/30\n",
            "77/77 [==============================] - 16s 209ms/step - loss: 1.3995 - accuracy: 0.7719 - val_loss: 1.4314 - val_accuracy: 0.7367\n",
            "Epoch 10/30\n",
            "77/77 [==============================] - 16s 215ms/step - loss: 1.3968 - accuracy: 0.7707 - val_loss: 1.3554 - val_accuracy: 0.8125\n",
            "Epoch 11/30\n",
            "77/77 [==============================] - 17s 218ms/step - loss: 1.3833 - accuracy: 0.7890 - val_loss: 1.3605 - val_accuracy: 0.8068\n",
            "Epoch 12/30\n",
            "77/77 [==============================] - 18s 233ms/step - loss: 1.3847 - accuracy: 0.7808 - val_loss: 1.3945 - val_accuracy: 0.7727\n",
            "Epoch 13/30\n",
            "77/77 [==============================] - 16s 210ms/step - loss: 1.3797 - accuracy: 0.7881 - val_loss: 1.4117 - val_accuracy: 0.7528\n",
            "Epoch 14/30\n",
            "77/77 [==============================] - 16s 212ms/step - loss: 1.4103 - accuracy: 0.7553 - val_loss: 1.3770 - val_accuracy: 0.7850\n",
            "Epoch 15/30\n",
            "77/77 [==============================] - 16s 211ms/step - loss: 1.3609 - accuracy: 0.8056 - val_loss: 1.3384 - val_accuracy: 0.8267\n",
            "Epoch 16/30\n",
            "77/77 [==============================] - 16s 214ms/step - loss: 1.3496 - accuracy: 0.8182 - val_loss: 1.3513 - val_accuracy: 0.8153\n",
            "Epoch 17/30\n",
            "77/77 [==============================] - 17s 216ms/step - loss: 1.3690 - accuracy: 0.7979 - val_loss: 1.3498 - val_accuracy: 0.8182\n",
            "Epoch 18/30\n",
            "77/77 [==============================] - 17s 215ms/step - loss: 1.3857 - accuracy: 0.7800 - val_loss: 1.3416 - val_accuracy: 0.8229\n",
            "Epoch 19/30\n",
            "77/77 [==============================] - 16s 214ms/step - loss: 1.3470 - accuracy: 0.8198 - val_loss: 1.3502 - val_accuracy: 0.8220\n",
            "Epoch 20/30\n",
            "77/77 [==============================] - 16s 214ms/step - loss: 1.3379 - accuracy: 0.8291 - val_loss: 1.3221 - val_accuracy: 0.8447\n",
            "Epoch 21/30\n",
            "77/77 [==============================] - 18s 235ms/step - loss: 1.3465 - accuracy: 0.8190 - val_loss: 1.3236 - val_accuracy: 0.8409\n",
            "Epoch 22/30\n",
            "77/77 [==============================] - 16s 210ms/step - loss: 1.3354 - accuracy: 0.8324 - val_loss: 1.3261 - val_accuracy: 0.8409\n",
            "Epoch 23/30\n",
            "77/77 [==============================] - 17s 217ms/step - loss: 1.3270 - accuracy: 0.8397 - val_loss: 1.3383 - val_accuracy: 0.8248\n",
            "Epoch 24/30\n",
            "77/77 [==============================] - 16s 211ms/step - loss: 1.3344 - accuracy: 0.8340 - val_loss: 1.3721 - val_accuracy: 0.7917\n",
            "Epoch 25/30\n",
            "77/77 [==============================] - 17s 216ms/step - loss: 1.3501 - accuracy: 0.8153 - val_loss: 1.3221 - val_accuracy: 0.8447\n",
            "Epoch 26/30\n",
            "77/77 [==============================] - 17s 218ms/step - loss: 1.3384 - accuracy: 0.8283 - val_loss: 1.3209 - val_accuracy: 0.8447\n",
            "Epoch 27/30\n",
            "77/77 [==============================] - 16s 212ms/step - loss: 1.3260 - accuracy: 0.8393 - val_loss: 1.3223 - val_accuracy: 0.8447\n",
            "Epoch 28/30\n",
            "77/77 [==============================] - 17s 215ms/step - loss: 1.3348 - accuracy: 0.8328 - val_loss: 1.3134 - val_accuracy: 0.8504\n",
            "Epoch 29/30\n",
            "77/77 [==============================] - 17s 217ms/step - loss: 1.3230 - accuracy: 0.8433 - val_loss: 1.3207 - val_accuracy: 0.8447\n",
            "Epoch 30/30\n",
            "77/77 [==============================] - 18s 233ms/step - loss: 1.3247 - accuracy: 0.8405 - val_loss: 1.3272 - val_accuracy: 0.8390\n"
          ]
        },
        {
          "output_type": "execute_result",
          "data": {
            "text/plain": [
              "<keras.callbacks.History at 0x7f1e912c2850>"
            ]
          },
          "metadata": {},
          "execution_count": 112
        }
      ],
      "source": [
        "model.fit(train_data, train_labels, shuffle = True, epochs = 30, validation_data = (validation_data,validation_labels))\n",
        "# 14m 22s for 50 epochs, accuracy peaks at 0.7151, further training doesn't do anything (for model architecture of covolutional layer -> dense(100) --> dense(24) --> dense(len(data)))\n",
        "# 16m 38s for 62 epochs, accuracy also peaks at 0.7151 (model architecture convolutional layer -> dense(50) -> dense(21) -> dense(len(data)) )\n",
        "\n",
        "# switch architecture to avg pooling:\n",
        "# also peaks at 0.7151\n",
        "\n",
        "# 10mins to train (30 epochs) - validation data peak accuracy at 0.8547 (1)\n",
        "# 8mins to train (30 epochs) - validation data peak accuracy 0.8509 (2)"
      ]
    },
    {
      "cell_type": "code",
      "source": [
        "train_labels"
      ],
      "metadata": {
        "colab": {
          "base_uri": "https://localhost:8080/"
        },
        "id": "6nJPhGNSDHIl",
        "outputId": "03339634-d8b7-43ac-814c-7565fa7472f7"
      },
      "execution_count": null,
      "outputs": [
        {
          "output_type": "execute_result",
          "data": {
            "text/plain": [
              "array([0, 0, 0, ..., 6, 6, 6])"
            ]
          },
          "metadata": {},
          "execution_count": 113
        }
      ]
    },
    {
      "cell_type": "code",
      "execution_count": null,
      "metadata": {
        "id": "Wmpa0eA6U2Ct"
      },
      "outputs": [],
      "source": [
        "# if validation is good (>85%) --> save weights in path below\n",
        "save_to_path = \"weights/matrix-data/attempt4/\"\n",
        "model.save_weights(save_to_path)"
      ]
    },
    {
      "cell_type": "code",
      "execution_count": null,
      "metadata": {
        "colab": {
          "base_uri": "https://localhost:8080/"
        },
        "id": "99Zb4TCIV92R",
        "outputId": "57be405e-ac2b-4a6e-e453-0ce6588b4b59"
      },
      "outputs": [
        {
          "output_type": "stream",
          "name": "stdout",
          "text": [
            "Model input dimensions: NONE, 426 , 14 , 1\n",
            "Model: \"sequential_12\"\n",
            "_________________________________________________________________\n",
            " Layer (type)                Output Shape              Param #   \n",
            "=================================================================\n",
            " conv2d_36 (Conv2D)          (None, 426, 14, 32)       320       \n",
            "                                                                 \n",
            " average_pooling2d_36 (Avera  (None, 213, 7, 32)       0         \n",
            " gePooling2D)                                                    \n",
            "                                                                 \n",
            " conv2d_37 (Conv2D)          (None, 213, 7, 64)        18496     \n",
            "                                                                 \n",
            " average_pooling2d_37 (Avera  (None, 106, 3, 64)       0         \n",
            " gePooling2D)                                                    \n",
            "                                                                 \n",
            " conv2d_38 (Conv2D)          (None, 106, 3, 64)        36928     \n",
            "                                                                 \n",
            " average_pooling2d_38 (Avera  (None, 53, 1, 64)        0         \n",
            " gePooling2D)                                                    \n",
            "                                                                 \n",
            " flatten_12 (Flatten)        (None, 3392)              0         \n",
            "                                                                 \n",
            " dense_48 (Dense)            (None, 100)               339300    \n",
            "                                                                 \n",
            " dropout_12 (Dropout)        (None, 100)               0         \n",
            "                                                                 \n",
            " dense_49 (Dense)            (None, 100)               10100     \n",
            "                                                                 \n",
            " dense_50 (Dense)            (None, 50)                5050      \n",
            "                                                                 \n",
            " dense_51 (Dense)            (None, 7)                 357       \n",
            "                                                                 \n",
            " softmax_12 (Softmax)        (None, 7)                 0         \n",
            "                                                                 \n",
            "=================================================================\n",
            "Total params: 410,551\n",
            "Trainable params: 410,551\n",
            "Non-trainable params: 0\n",
            "_________________________________________________________________\n"
          ]
        }
      ],
      "source": [
        "# RUN THIS IF: model was previously saved and would only like to predict results on new experimental data\n",
        "trn_data_path = \"matrix-data/\"\n",
        "exp_data_path = \"exp-data-matrix/\"\n",
        "saved_path_weights = \"weights/matrix-data/attempt4/\"\n",
        "\n",
        "# load experimental data & model\n",
        "exp_datas, max_exp_val, min_exp_val, exp_categories = summarize(exp_data_path, drop_alternate = False, drop_first = True)\n",
        "exp_categories_index = []\n",
        "for i in range(len(exp_datas)):\n",
        "  for j in range(len(exp_datas[i])):\n",
        "    exp_categories_index.append(i)\n",
        "exp_categories_index = np.asarray(exp_categories_index)\n",
        "# PITFALL: - ensure max_exp_val and min_exp_val of new batch is less than saved max and min values\n",
        "#          - else, predictions could be inaccurate\n",
        "experimental_data = np.vstack(exp_datas)\n",
        "# load min and max data from docs\n",
        "f = open(\"max-min.txt\", 'r')\n",
        "nums = f.readlines()\n",
        "nums = [eval(i) for i in nums]\n",
        "max_val = nums[0]\n",
        "min_val = nums[1]\n",
        "if min_exp_val < min_val:\n",
        "  print(\"Warning: new minimum value detected from experimental data\")\n",
        "if max_exp_val > max_val:\n",
        "  print(\"Warning: new maximum value detected from experimental data\")\n",
        "\n",
        "experimental_data = normalize(experimental_data,min_val,max_val)\n",
        "experimental_data = np.expand_dims(experimental_data, axis = len(experimental_data.shape))\n",
        "trn_categories = listdir_non_hidden(trn_data_path)\n",
        "x,y,z = experimental_data.shape[1], experimental_data.shape[2], experimental_data.shape[3]\n",
        "print(\"Model input dimensions: NONE,\", x, ',', y, ',', z)\n",
        "model_2 = load_model(saved_path_weights,x,y,z,trn_categories)\n",
        "model_2.summary()"
      ]
    },
    {
      "cell_type": "code",
      "execution_count": null,
      "metadata": {
        "colab": {
          "base_uri": "https://localhost:8080/",
          "height": 751
        },
        "id": "aLGsgDJYTdiy",
        "outputId": "d8791fd9-2e49-47d3-887a-f907ebe4cd70"
      },
      "outputs": [
        {
          "output_type": "stream",
          "name": "stdout",
          "text": [
            "1/1 [==============================] - 0s 19ms/step\n",
            "Ecb_E0=-0.3\n",
            "Ecb_E0=-0.15\n",
            "Ecb_E0=-0.4\n",
            "Ecb_E0=-0.35\n",
            "Ecb_E0=-0.45\n",
            "Ecb_E0=-0.2\n",
            "Ecb_E0=-0.25\n"
          ]
        },
        {
          "output_type": "display_data",
          "data": {
            "text/plain": [
              "<Figure size 1800x720 with 3 Axes>"
            ],
            "image/png": "[encoded data removed]"
          },
          "metadata": {
            "needs_background": "light"
          }
        }
      ],
      "source": [
        "# TO DO: input i value of data you would like to see and j value of method of displaying\n",
        "i = 0\n",
        "j = 2\n",
        "predictions = model_2.predict(experimental_data)#validation_data\n",
        "\n",
        "if(j == 0):\n",
        "  predict_top_three(i,predictions,trn_categories)\n",
        "elif(j == 1):\n",
        "  predict_top_three_multiple(i,9,predictions,trn_categories)\n",
        "elif(j == 2):\n",
        "  #swaps made: experimental_data -> validation_data, exp_categories-> trn_categories, experimental_category_index -> validation_labels\n",
        "  display_predictions(i,experimental_data,predictions,trn_categories,exp_categories,exp_categories_index, min_val, max_val)"
      ]
    },
    {
      "cell_type": "code",
      "source": [
        "print(len(validation_labels))\n",
        "print(len(exp_categories))"
      ],
      "metadata": {
        "colab": {
          "base_uri": "https://localhost:8080/"
        },
        "id": "Z9mBV1BxA7xO",
        "outputId": "6e4d12f6-36a5-4f1b-97fd-1839c505ae52"
      },
      "execution_count": null,
      "outputs": [
        {
          "output_type": "stream",
          "name": "stdout",
          "text": [
            "1056\n",
            "3\n"
          ]
        }
      ]
    }
  ],
  "metadata": {
    "colab": {
      "provenance": []
    },
    "gpuClass": "standard",
    "kernelspec": {
      "display_name": "Python 3",
      "name": "python3"
    },
    "language_info": {
      "name": "python"
    }
  },
  "nbformat": 4,
  "nbformat_minor": 0
}